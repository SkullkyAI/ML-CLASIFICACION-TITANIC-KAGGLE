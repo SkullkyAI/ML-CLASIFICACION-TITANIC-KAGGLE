{
 "cells": [
  {
   "cell_type": "markdown",
   "id": "79eb8fec",
   "metadata": {},
   "source": [
    "## Pràctica 1: Resolem un problema de classificacio"
   ]
  },
  {
   "cell_type": "markdown",
   "id": "b4f8fc96",
   "metadata": {},
   "source": [
    "#### Autores: Adrián González (1636620) y Carlos ()"
   ]
  },
  {
   "cell_type": "markdown",
   "id": "bd1f6632",
   "metadata": {},
   "source": [
    "### PLANIFICACIÓN DE LA PRÁCTICA"
   ]
  },
  {
   "cell_type": "markdown",
   "id": "b9be21c4",
   "metadata": {},
   "source": [
    "1. **Importar bibliotecas y cargar datos**\n",
    "   - Importar las bibliotecas necesarias (pandas, sklearn, etc.).\n",
    "   - Cargar los datos del Titanic.\n",
    "\n",
    "2. **Análisis Exploratorio de Datos (EDA)**\n",
    "   - Inspeccionar los atributos y sus tipos.\n",
    "   - Evaluar el atributo objetivo y su distribución.\n",
    "   - Identificar y tratar los valores faltantes.\n",
    "   - Calcular correlaciones y visualizarlas.\n",
    "\n",
    "3. **Preprocesamiento de Datos**\n",
    "   - Normalizar los datos si es necesario.\n",
    "   - Manejar valores faltantes (eliminar o imputar).\n",
    "   - Codificar datos categóricos.\n",
    "   - Realizar PCA si es apropiado.\n",
    "   - Seleccionar características si es necesario.\n",
    "   - Aplicar \"PolynomialFeatures\" si es útil.\n",
    "\n",
    "4. **Selección de Métricas**\n",
    "   - Elegir la métrica de evaluación (accuracy, f1-score, average precision).\n",
    "   - Crear funciones para visualizar las curvas ROC y PR.\n",
    "   - Utilizar \"classification_report\" para obtener métricas detalladas.\n",
    "\n",
    "5. **Selección de Modelos con Validación Cruzada**\n",
    "   - Definir los modelos a evaluar (por ejemplo, regresión logística, random forest, KNN, SVM).\n",
    "   - Realizar validación cruzada para seleccionar el mejor modelo.\n",
    "   - Realizar búsqueda de hiperparámetros para cada modelo.\n",
    "   - Comparar los resultados en una tabla.\n",
    "   - Ajustar la configuración de la validación cruzada y \"k\".\n",
    "   - Explorar métodos de búsqueda de hiperparámetros.\n",
    "\n",
    "6. **Análisis Final**\n",
    "   - Interpretar las curvas ROC/PR y seleccionar la más relevante.\n",
    "   - Evaluar las métricas detalladas y definir una métrica principal.\n",
    "   - Considerar mejoras posibles para el modelo.\n"
   ]
  },
  {
   "cell_type": "markdown",
   "id": "4c9dd104",
   "metadata": {},
   "source": [
    " ### 1. Importar bibliotecas y cargar datos 📚"
   ]
  },
  {
   "cell_type": "code",
   "execution_count": 147,
   "id": "f42e96ec",
   "metadata": {},
   "outputs": [],
   "source": [
    "import pandas as pd\n",
    "import numpy as np\n",
    "from sklearn.metrics import f1_score, precision_recall_curve, roc_curve, auc\n",
    "import matplotlib.pyplot as bplt\n",
    "import seaborn as sns\n",
    "import plotly.express as px\n",
    "from sklearn.impute import SimpleImputer\n",
    "\n",
    "from sklearn.linear_model import LogisticRegression\n",
    "from sklearn.neighbors import KNeighborsClassifier\n",
    "from sklearn.naive_bayes import GaussianNB\n",
    "from sklearn.tree import DecisionTreeClassifier\n",
    "from sklearn.ensemble import RandomForestClassifier, AdaBoostClassifier, GradientBoostingClassifier"
   ]
  },
  {
   "cell_type": "code",
   "execution_count": 109,
   "id": "72999779",
   "metadata": {
    "scrolled": true
   },
   "outputs": [
    {
     "data": {
      "text/html": [
       "<div>\n",
       "<style scoped>\n",
       "    .dataframe tbody tr th:only-of-type {\n",
       "        vertical-align: middle;\n",
       "    }\n",
       "\n",
       "    .dataframe tbody tr th {\n",
       "        vertical-align: top;\n",
       "    }\n",
       "\n",
       "    .dataframe thead th {\n",
       "        text-align: right;\n",
       "    }\n",
       "</style>\n",
       "<table border=\"1\" class=\"dataframe\">\n",
       "  <thead>\n",
       "    <tr style=\"text-align: right;\">\n",
       "      <th></th>\n",
       "      <th>PassengerId</th>\n",
       "      <th>Survived</th>\n",
       "      <th>Pclass</th>\n",
       "      <th>Name</th>\n",
       "      <th>Sex</th>\n",
       "      <th>Age</th>\n",
       "      <th>SibSp</th>\n",
       "      <th>Parch</th>\n",
       "      <th>Ticket</th>\n",
       "      <th>Fare</th>\n",
       "      <th>Cabin</th>\n",
       "      <th>Embarked</th>\n",
       "    </tr>\n",
       "  </thead>\n",
       "  <tbody>\n",
       "    <tr>\n",
       "      <th>0</th>\n",
       "      <td>1</td>\n",
       "      <td>0</td>\n",
       "      <td>3</td>\n",
       "      <td>Braund, Mr. Owen Harris</td>\n",
       "      <td>male</td>\n",
       "      <td>22.000</td>\n",
       "      <td>1</td>\n",
       "      <td>0</td>\n",
       "      <td>A/5 21171</td>\n",
       "      <td>7.250</td>\n",
       "      <td>NaN</td>\n",
       "      <td>S</td>\n",
       "    </tr>\n",
       "    <tr>\n",
       "      <th>1</th>\n",
       "      <td>2</td>\n",
       "      <td>1</td>\n",
       "      <td>1</td>\n",
       "      <td>Cumings, Mrs. John Bradley (Florence Briggs Th...</td>\n",
       "      <td>female</td>\n",
       "      <td>38.000</td>\n",
       "      <td>1</td>\n",
       "      <td>0</td>\n",
       "      <td>PC 17599</td>\n",
       "      <td>71.283</td>\n",
       "      <td>C85</td>\n",
       "      <td>C</td>\n",
       "    </tr>\n",
       "    <tr>\n",
       "      <th>2</th>\n",
       "      <td>3</td>\n",
       "      <td>1</td>\n",
       "      <td>3</td>\n",
       "      <td>Heikkinen, Miss. Laina</td>\n",
       "      <td>female</td>\n",
       "      <td>26.000</td>\n",
       "      <td>0</td>\n",
       "      <td>0</td>\n",
       "      <td>STON/O2. 3101282</td>\n",
       "      <td>7.925</td>\n",
       "      <td>NaN</td>\n",
       "      <td>S</td>\n",
       "    </tr>\n",
       "    <tr>\n",
       "      <th>3</th>\n",
       "      <td>4</td>\n",
       "      <td>1</td>\n",
       "      <td>1</td>\n",
       "      <td>Futrelle, Mrs. Jacques Heath (Lily May Peel)</td>\n",
       "      <td>female</td>\n",
       "      <td>35.000</td>\n",
       "      <td>1</td>\n",
       "      <td>0</td>\n",
       "      <td>113803</td>\n",
       "      <td>53.100</td>\n",
       "      <td>C123</td>\n",
       "      <td>S</td>\n",
       "    </tr>\n",
       "    <tr>\n",
       "      <th>4</th>\n",
       "      <td>5</td>\n",
       "      <td>0</td>\n",
       "      <td>3</td>\n",
       "      <td>Allen, Mr. William Henry</td>\n",
       "      <td>male</td>\n",
       "      <td>35.000</td>\n",
       "      <td>0</td>\n",
       "      <td>0</td>\n",
       "      <td>373450</td>\n",
       "      <td>8.050</td>\n",
       "      <td>NaN</td>\n",
       "      <td>S</td>\n",
       "    </tr>\n",
       "    <tr>\n",
       "      <th>...</th>\n",
       "      <td>...</td>\n",
       "      <td>...</td>\n",
       "      <td>...</td>\n",
       "      <td>...</td>\n",
       "      <td>...</td>\n",
       "      <td>...</td>\n",
       "      <td>...</td>\n",
       "      <td>...</td>\n",
       "      <td>...</td>\n",
       "      <td>...</td>\n",
       "      <td>...</td>\n",
       "      <td>...</td>\n",
       "    </tr>\n",
       "    <tr>\n",
       "      <th>886</th>\n",
       "      <td>887</td>\n",
       "      <td>0</td>\n",
       "      <td>2</td>\n",
       "      <td>Montvila, Rev. Juozas</td>\n",
       "      <td>male</td>\n",
       "      <td>27.000</td>\n",
       "      <td>0</td>\n",
       "      <td>0</td>\n",
       "      <td>211536</td>\n",
       "      <td>13.000</td>\n",
       "      <td>NaN</td>\n",
       "      <td>S</td>\n",
       "    </tr>\n",
       "    <tr>\n",
       "      <th>887</th>\n",
       "      <td>888</td>\n",
       "      <td>1</td>\n",
       "      <td>1</td>\n",
       "      <td>Graham, Miss. Margaret Edith</td>\n",
       "      <td>female</td>\n",
       "      <td>19.000</td>\n",
       "      <td>0</td>\n",
       "      <td>0</td>\n",
       "      <td>112053</td>\n",
       "      <td>30.000</td>\n",
       "      <td>B42</td>\n",
       "      <td>S</td>\n",
       "    </tr>\n",
       "    <tr>\n",
       "      <th>888</th>\n",
       "      <td>889</td>\n",
       "      <td>0</td>\n",
       "      <td>3</td>\n",
       "      <td>Johnston, Miss. Catherine Helen \"Carrie\"</td>\n",
       "      <td>female</td>\n",
       "      <td>NaN</td>\n",
       "      <td>1</td>\n",
       "      <td>2</td>\n",
       "      <td>W./C. 6607</td>\n",
       "      <td>23.450</td>\n",
       "      <td>NaN</td>\n",
       "      <td>S</td>\n",
       "    </tr>\n",
       "    <tr>\n",
       "      <th>889</th>\n",
       "      <td>890</td>\n",
       "      <td>1</td>\n",
       "      <td>1</td>\n",
       "      <td>Behr, Mr. Karl Howell</td>\n",
       "      <td>male</td>\n",
       "      <td>26.000</td>\n",
       "      <td>0</td>\n",
       "      <td>0</td>\n",
       "      <td>111369</td>\n",
       "      <td>30.000</td>\n",
       "      <td>C148</td>\n",
       "      <td>C</td>\n",
       "    </tr>\n",
       "    <tr>\n",
       "      <th>890</th>\n",
       "      <td>891</td>\n",
       "      <td>0</td>\n",
       "      <td>3</td>\n",
       "      <td>Dooley, Mr. Patrick</td>\n",
       "      <td>male</td>\n",
       "      <td>32.000</td>\n",
       "      <td>0</td>\n",
       "      <td>0</td>\n",
       "      <td>370376</td>\n",
       "      <td>7.750</td>\n",
       "      <td>NaN</td>\n",
       "      <td>Q</td>\n",
       "    </tr>\n",
       "  </tbody>\n",
       "</table>\n",
       "<p>891 rows × 12 columns</p>\n",
       "</div>"
      ],
      "text/plain": [
       "     PassengerId  Survived  Pclass  \\\n",
       "0              1         0       3   \n",
       "1              2         1       1   \n",
       "2              3         1       3   \n",
       "3              4         1       1   \n",
       "4              5         0       3   \n",
       "..           ...       ...     ...   \n",
       "886          887         0       2   \n",
       "887          888         1       1   \n",
       "888          889         0       3   \n",
       "889          890         1       1   \n",
       "890          891         0       3   \n",
       "\n",
       "                                                  Name     Sex    Age  SibSp  \\\n",
       "0                              Braund, Mr. Owen Harris    male 22.000      1   \n",
       "1    Cumings, Mrs. John Bradley (Florence Briggs Th...  female 38.000      1   \n",
       "2                               Heikkinen, Miss. Laina  female 26.000      0   \n",
       "3         Futrelle, Mrs. Jacques Heath (Lily May Peel)  female 35.000      1   \n",
       "4                             Allen, Mr. William Henry    male 35.000      0   \n",
       "..                                                 ...     ...    ...    ...   \n",
       "886                              Montvila, Rev. Juozas    male 27.000      0   \n",
       "887                       Graham, Miss. Margaret Edith  female 19.000      0   \n",
       "888           Johnston, Miss. Catherine Helen \"Carrie\"  female    NaN      1   \n",
       "889                              Behr, Mr. Karl Howell    male 26.000      0   \n",
       "890                                Dooley, Mr. Patrick    male 32.000      0   \n",
       "\n",
       "     Parch            Ticket   Fare Cabin Embarked  \n",
       "0        0         A/5 21171  7.250   NaN        S  \n",
       "1        0          PC 17599 71.283   C85        C  \n",
       "2        0  STON/O2. 3101282  7.925   NaN        S  \n",
       "3        0            113803 53.100  C123        S  \n",
       "4        0            373450  8.050   NaN        S  \n",
       "..     ...               ...    ...   ...      ...  \n",
       "886      0            211536 13.000   NaN        S  \n",
       "887      0            112053 30.000   B42        S  \n",
       "888      2        W./C. 6607 23.450   NaN        S  \n",
       "889      0            111369 30.000  C148        C  \n",
       "890      0            370376  7.750   NaN        Q  \n",
       "\n",
       "[891 rows x 12 columns]"
      ]
     },
     "execution_count": 109,
     "metadata": {},
     "output_type": "execute_result"
    }
   ],
   "source": [
    "pd.set_option('display.float_format', lambda x: '%.3f' % x)\n",
    "df_train = pd.read_csv('train.csv')\n",
    "df_train"
   ]
  },
  {
   "cell_type": "markdown",
   "id": "210dabfe",
   "metadata": {},
   "source": [
    "### 2. Análisis Exploratorio de Datos (EDA) 🔎"
   ]
  },
  {
   "cell_type": "markdown",
   "id": "1ea366b4",
   "metadata": {},
   "source": [
    "**Variables Numéricas:**\n",
    "\n",
    "    - Calcular estadísticas descriptivas: la media, la mediana, la desviación estándar, el mínimo y el máximo.\n",
    "    - Visualizar histogramas y boxplots para entender la distribución de los datos.\n",
    "    - Realizar un análisis de valores atípicos (outliers) para identificar observaciones inusuales.\n",
    "    - Calcular correlaciones entre las variables numéricas utilizando matrices de correlación y mapas de calor.\n",
    "    - Crear gráficos de dispersión para explorar relaciones entre pares de variables numéricas.\n",
    "\n",
    "**Variables Categóricas:**\n",
    "\n",
    "    - Calcular la frecuencia de cada categoría para comprender la distribución de las variables categóricas.\n",
    "    - Crear gráficos de barras o gráficos de pastel para visualizar la distribución de categorías.\n",
    "    - Evaluar la relación entre variables categóricas\n",
    "    - Realizar análisis de variables categóricas respecto a la variable objetivo.\n",
    "    - Identificar y manejar categorías raras o poco frecuentes si es necesario."
   ]
  },
  {
   "cell_type": "code",
   "execution_count": 110,
   "id": "7f4988a0",
   "metadata": {},
   "outputs": [
    {
     "name": "stdout",
     "output_type": "stream",
     "text": [
      "Numero de columnas en el train:  12\n",
      "---------------------------------------\n",
      "Numero de filas en el train:  891\n"
     ]
    }
   ],
   "source": [
    "print(\"Numero de columnas en el train: \",df_train.shape[1])\n",
    "print(\"---------------------------------------\")\n",
    "print(\"Numero de filas en el train: \",df_train.shape[0])"
   ]
  },
  {
   "cell_type": "code",
   "execution_count": 111,
   "id": "a6f257f2",
   "metadata": {
    "scrolled": true
   },
   "outputs": [
    {
     "name": "stdout",
     "output_type": "stream",
     "text": [
      "<class 'pandas.core.frame.DataFrame'>\n",
      "RangeIndex: 891 entries, 0 to 890\n",
      "Data columns (total 12 columns):\n",
      " #   Column       Non-Null Count  Dtype  \n",
      "---  ------       --------------  -----  \n",
      " 0   PassengerId  891 non-null    int64  \n",
      " 1   Survived     891 non-null    int64  \n",
      " 2   Pclass       891 non-null    int64  \n",
      " 3   Name         891 non-null    object \n",
      " 4   Sex          891 non-null    object \n",
      " 5   Age          714 non-null    float64\n",
      " 6   SibSp        891 non-null    int64  \n",
      " 7   Parch        891 non-null    int64  \n",
      " 8   Ticket       891 non-null    object \n",
      " 9   Fare         891 non-null    float64\n",
      " 10  Cabin        204 non-null    object \n",
      " 11  Embarked     889 non-null    object \n",
      "dtypes: float64(2), int64(5), object(5)\n",
      "memory usage: 83.7+ KB\n",
      "None\n"
     ]
    }
   ],
   "source": [
    "print(df_train.info())"
   ]
  },
  {
   "cell_type": "markdown",
   "id": "8b6ffd37",
   "metadata": {},
   "source": [
    "\n",
    "| Variable    | Tipo        | Descripción                                         |\n",
    "|------------ |------------ |--------------------------------------------------- |\n",
    "| passengerId | int         | Valor de identificación único de cada pasajero     |\n",
    "| name        | string      | Nombre del pasajero                                |\n",
    "| sex         | factor      | Género (masculino o femenino)                      |\n",
    "| age         | numeric     | Edad de la persona (niños menores de 12 meses representados en fracción de año) |\n",
    "| pclass       | factor      | Clase del ticket (1 = 1ra, 2 = 2da, 3 = 3ra)                        |\n",
    "| embarked    | factor      | Puerto de embarque de las personas                |\n",
    "| ticket    | numeric     | Número de ticket (NA para la tripulación)         |\n",
    "| fare        | numeric     | Precio del ticket (NA para la tripulación, músicos, empleados y otros) |\n",
    "| sibsp       | factor ordenado | Número de hermanos/familiares                  |\n",
    "| cabin       | factor      | Tipo de cabina ocupada por el pasajero            |\n",
    "| parch       | factor ordenado | Número de padres e hijos a bordo               |\n",
    "| survived    | factor 2 de dos niveles | Sobrevive (0 = No, 1 = Si) al hundimiento      |"
   ]
  },
  {
   "cell_type": "markdown",
   "id": "e5a9f4be",
   "metadata": {},
   "source": [
    "Variables numéricas: Age, Fare, SibSp, Parch \n",
    "\n",
    "Variables categóricas: Survived, Sex, Embarked, Pclass, Name, PassengerId, Ticket, Cabin"
   ]
  },
  {
   "cell_type": "code",
   "execution_count": 112,
   "id": "ec1f7fff",
   "metadata": {},
   "outputs": [
    {
     "name": "stdout",
     "output_type": "stream",
     "text": [
      "True\n",
      "PassengerId      0\n",
      "Survived         0\n",
      "Pclass           0\n",
      "Name             0\n",
      "Sex              0\n",
      "Age            177\n",
      "SibSp            0\n",
      "Parch            0\n",
      "Ticket           0\n",
      "Fare             0\n",
      "Cabin          687\n",
      "Embarked         2\n",
      "dtype: int64\n",
      "        PassengerId  Survived  Pclass                     Name   Sex     Age  \\\n",
      "count       891.000   891.000 891.000                      891   891 714.000   \n",
      "unique          NaN       NaN     NaN                      891     2     NaN   \n",
      "top             NaN       NaN     NaN  Braund, Mr. Owen Harris  male     NaN   \n",
      "freq            NaN       NaN     NaN                        1   577     NaN   \n",
      "mean        446.000     0.384   2.309                      NaN   NaN  29.699   \n",
      "std         257.354     0.487   0.836                      NaN   NaN  14.526   \n",
      "min           1.000     0.000   1.000                      NaN   NaN   0.420   \n",
      "25%         223.500     0.000   2.000                      NaN   NaN  20.125   \n",
      "50%         446.000     0.000   3.000                      NaN   NaN  28.000   \n",
      "75%         668.500     1.000   3.000                      NaN   NaN  38.000   \n",
      "max         891.000     1.000   3.000                      NaN   NaN  80.000   \n",
      "\n",
      "         SibSp   Parch  Ticket    Fare    Cabin Embarked  \n",
      "count  891.000 891.000     891 891.000      204      889  \n",
      "unique     NaN     NaN     681     NaN      147        3  \n",
      "top        NaN     NaN  347082     NaN  B96 B98        S  \n",
      "freq       NaN     NaN       7     NaN        4      644  \n",
      "mean     0.523   0.382     NaN  32.204      NaN      NaN  \n",
      "std      1.103   0.806     NaN  49.693      NaN      NaN  \n",
      "min      0.000   0.000     NaN   0.000      NaN      NaN  \n",
      "25%      0.000   0.000     NaN   7.910      NaN      NaN  \n",
      "50%      0.000   0.000     NaN  14.454      NaN      NaN  \n",
      "75%      1.000   0.000     NaN  31.000      NaN      NaN  \n",
      "max      8.000   6.000     NaN 512.329      NaN      NaN  \n"
     ]
    }
   ],
   "source": [
    "def has_nans(df):\n",
    "  return df.isna().sum().sum()>0\n",
    "\n",
    "print (has_nans(df_train))\n",
    "\n",
    "print(pd.isnull(df_train).sum())\n",
    "\n",
    "# Resumen estadístico de las variables numéricas\n",
    "print(df_train.describe(include=\"all\"))"
   ]
  },
  {
   "cell_type": "markdown",
   "id": "988ed477",
   "metadata": {},
   "source": [
    "- El total de pasageros es 891\n",
    "- Así de primeras PassengerId y Ticket no creemos que vayan a ser muy relevantes al ser identificadores únicos, Name y Fare igual (este último por que pclass es equivalentte)\n",
    "\n",
    "Deberemos tratar algunos NaNs:\n",
    "\n",
    "- Existen columnas con muchos Nans: Age y Cabin \n",
    "- Embarked tiene dos NaNs\n",
    "\n",
    "Cabin es poco relevante y tiene muchos NaNs\n",
    "Fusionamos SibSp y Parch en FamSize"
   ]
  },
  {
   "cell_type": "code",
   "execution_count": 113,
   "id": "4b0baf82",
   "metadata": {},
   "outputs": [],
   "source": [
    "df_train['FamSize'] = df_train['SibSp'] + df_train['Parch'] + 1\n",
    "df_train = df_train.drop(['PassengerId', 'Ticket', 'Name', 'Fare', 'Cabin','SibSp','Parch'], axis=1)"
   ]
  },
  {
   "cell_type": "code",
   "execution_count": 114,
   "id": "04e0b290",
   "metadata": {},
   "outputs": [
    {
     "data": {
      "text/plain": [
       "Survived     2\n",
       "Pclass       3\n",
       "Sex          2\n",
       "Age         88\n",
       "Embarked     3\n",
       "FamSize      9\n",
       "dtype: int64"
      ]
     },
     "execution_count": 114,
     "metadata": {},
     "output_type": "execute_result"
    }
   ],
   "source": [
    "df_train.nunique()"
   ]
  },
  {
   "cell_type": "code",
   "execution_count": 115,
   "id": "d74ed1c0",
   "metadata": {
    "scrolled": true
   },
   "outputs": [
    {
     "data": {
      "text/html": [
       "<div>\n",
       "<style scoped>\n",
       "    .dataframe tbody tr th:only-of-type {\n",
       "        vertical-align: middle;\n",
       "    }\n",
       "\n",
       "    .dataframe tbody tr th {\n",
       "        vertical-align: top;\n",
       "    }\n",
       "\n",
       "    .dataframe thead th {\n",
       "        text-align: right;\n",
       "    }\n",
       "</style>\n",
       "<table border=\"1\" class=\"dataframe\">\n",
       "  <thead>\n",
       "    <tr style=\"text-align: right;\">\n",
       "      <th></th>\n",
       "      <th>Sex</th>\n",
       "      <th>Embarked</th>\n",
       "    </tr>\n",
       "  </thead>\n",
       "  <tbody>\n",
       "    <tr>\n",
       "      <th>count</th>\n",
       "      <td>891</td>\n",
       "      <td>889</td>\n",
       "    </tr>\n",
       "    <tr>\n",
       "      <th>unique</th>\n",
       "      <td>2</td>\n",
       "      <td>3</td>\n",
       "    </tr>\n",
       "    <tr>\n",
       "      <th>top</th>\n",
       "      <td>male</td>\n",
       "      <td>S</td>\n",
       "    </tr>\n",
       "    <tr>\n",
       "      <th>freq</th>\n",
       "      <td>577</td>\n",
       "      <td>644</td>\n",
       "    </tr>\n",
       "  </tbody>\n",
       "</table>\n",
       "</div>"
      ],
      "text/plain": [
       "         Sex Embarked\n",
       "count    891      889\n",
       "unique     2        3\n",
       "top     male        S\n",
       "freq     577      644"
      ]
     },
     "execution_count": 115,
     "metadata": {},
     "output_type": "execute_result"
    }
   ],
   "source": [
    "# Resumen estadístico de las variables categóricas\n",
    "df_train.describe(include='O')"
   ]
  },
  {
   "cell_type": "code",
   "execution_count": 116,
   "id": "ecc96960",
   "metadata": {},
   "outputs": [
    {
     "data": {
      "text/html": [
       "<style type=\"text/css\">\n",
       "#T_6e1a1_row0_col0, #T_6e1a1_row0_col1, #T_6e1a1_row0_col2, #T_6e1a1_row0_col3 {\n",
       "  background-color: #023858;\n",
       "  color: #f1f1f1;\n",
       "}\n",
       "#T_6e1a1_row1_col0, #T_6e1a1_row1_col1, #T_6e1a1_row1_col3, #T_6e1a1_row2_col0, #T_6e1a1_row2_col1, #T_6e1a1_row2_col3, #T_6e1a1_row3_col0, #T_6e1a1_row3_col1, #T_6e1a1_row3_col2, #T_6e1a1_row3_col3, #T_6e1a1_row4_col0, #T_6e1a1_row4_col1, #T_6e1a1_row4_col3, #T_6e1a1_row5_col0, #T_6e1a1_row5_col1, #T_6e1a1_row5_col3, #T_6e1a1_row6_col0, #T_6e1a1_row6_col1, #T_6e1a1_row6_col3, #T_6e1a1_row7_col0, #T_6e1a1_row7_col1 {\n",
       "  background-color: #fff7fb;\n",
       "  color: #000000;\n",
       "}\n",
       "#T_6e1a1_row1_col2 {\n",
       "  background-color: #f9f2f8;\n",
       "  color: #000000;\n",
       "}\n",
       "#T_6e1a1_row2_col2 {\n",
       "  background-color: #fcf4fa;\n",
       "  color: #000000;\n",
       "}\n",
       "#T_6e1a1_row4_col2 {\n",
       "  background-color: #fbf3f9;\n",
       "  color: #000000;\n",
       "}\n",
       "#T_6e1a1_row5_col2 {\n",
       "  background-color: #faf2f8;\n",
       "  color: #000000;\n",
       "}\n",
       "#T_6e1a1_row6_col2 {\n",
       "  background-color: #f7f0f7;\n",
       "  color: #000000;\n",
       "}\n",
       "#T_6e1a1_row7_col2 {\n",
       "  background-color: #eee9f3;\n",
       "  color: #000000;\n",
       "}\n",
       "#T_6e1a1_row7_col3 {\n",
       "  background-color: #fef6fa;\n",
       "  color: #000000;\n",
       "}\n",
       "</style>\n",
       "<table id=\"T_6e1a1\">\n",
       "  <thead>\n",
       "    <tr>\n",
       "      <th class=\"blank level0\" >&nbsp;</th>\n",
       "      <th id=\"T_6e1a1_level0_col0\" class=\"col_heading level0 col0\" >Survived</th>\n",
       "      <th id=\"T_6e1a1_level0_col1\" class=\"col_heading level0 col1\" >Pclass</th>\n",
       "      <th id=\"T_6e1a1_level0_col2\" class=\"col_heading level0 col2\" >Age</th>\n",
       "      <th id=\"T_6e1a1_level0_col3\" class=\"col_heading level0 col3\" >FamSize</th>\n",
       "    </tr>\n",
       "  </thead>\n",
       "  <tbody>\n",
       "    <tr>\n",
       "      <th id=\"T_6e1a1_level0_row0\" class=\"row_heading level0 row0\" >count</th>\n",
       "      <td id=\"T_6e1a1_row0_col0\" class=\"data row0 col0\" >891.000000</td>\n",
       "      <td id=\"T_6e1a1_row0_col1\" class=\"data row0 col1\" >891.000000</td>\n",
       "      <td id=\"T_6e1a1_row0_col2\" class=\"data row0 col2\" >714.000000</td>\n",
       "      <td id=\"T_6e1a1_row0_col3\" class=\"data row0 col3\" >891.000000</td>\n",
       "    </tr>\n",
       "    <tr>\n",
       "      <th id=\"T_6e1a1_level0_row1\" class=\"row_heading level0 row1\" >mean</th>\n",
       "      <td id=\"T_6e1a1_row1_col0\" class=\"data row1 col0\" >0.383838</td>\n",
       "      <td id=\"T_6e1a1_row1_col1\" class=\"data row1 col1\" >2.308642</td>\n",
       "      <td id=\"T_6e1a1_row1_col2\" class=\"data row1 col2\" >29.699118</td>\n",
       "      <td id=\"T_6e1a1_row1_col3\" class=\"data row1 col3\" >1.904602</td>\n",
       "    </tr>\n",
       "    <tr>\n",
       "      <th id=\"T_6e1a1_level0_row2\" class=\"row_heading level0 row2\" >std</th>\n",
       "      <td id=\"T_6e1a1_row2_col0\" class=\"data row2 col0\" >0.486592</td>\n",
       "      <td id=\"T_6e1a1_row2_col1\" class=\"data row2 col1\" >0.836071</td>\n",
       "      <td id=\"T_6e1a1_row2_col2\" class=\"data row2 col2\" >14.526497</td>\n",
       "      <td id=\"T_6e1a1_row2_col3\" class=\"data row2 col3\" >1.613459</td>\n",
       "    </tr>\n",
       "    <tr>\n",
       "      <th id=\"T_6e1a1_level0_row3\" class=\"row_heading level0 row3\" >min</th>\n",
       "      <td id=\"T_6e1a1_row3_col0\" class=\"data row3 col0\" >0.000000</td>\n",
       "      <td id=\"T_6e1a1_row3_col1\" class=\"data row3 col1\" >1.000000</td>\n",
       "      <td id=\"T_6e1a1_row3_col2\" class=\"data row3 col2\" >0.420000</td>\n",
       "      <td id=\"T_6e1a1_row3_col3\" class=\"data row3 col3\" >1.000000</td>\n",
       "    </tr>\n",
       "    <tr>\n",
       "      <th id=\"T_6e1a1_level0_row4\" class=\"row_heading level0 row4\" >25%</th>\n",
       "      <td id=\"T_6e1a1_row4_col0\" class=\"data row4 col0\" >0.000000</td>\n",
       "      <td id=\"T_6e1a1_row4_col1\" class=\"data row4 col1\" >2.000000</td>\n",
       "      <td id=\"T_6e1a1_row4_col2\" class=\"data row4 col2\" >20.125000</td>\n",
       "      <td id=\"T_6e1a1_row4_col3\" class=\"data row4 col3\" >1.000000</td>\n",
       "    </tr>\n",
       "    <tr>\n",
       "      <th id=\"T_6e1a1_level0_row5\" class=\"row_heading level0 row5\" >50%</th>\n",
       "      <td id=\"T_6e1a1_row5_col0\" class=\"data row5 col0\" >0.000000</td>\n",
       "      <td id=\"T_6e1a1_row5_col1\" class=\"data row5 col1\" >3.000000</td>\n",
       "      <td id=\"T_6e1a1_row5_col2\" class=\"data row5 col2\" >28.000000</td>\n",
       "      <td id=\"T_6e1a1_row5_col3\" class=\"data row5 col3\" >1.000000</td>\n",
       "    </tr>\n",
       "    <tr>\n",
       "      <th id=\"T_6e1a1_level0_row6\" class=\"row_heading level0 row6\" >75%</th>\n",
       "      <td id=\"T_6e1a1_row6_col0\" class=\"data row6 col0\" >1.000000</td>\n",
       "      <td id=\"T_6e1a1_row6_col1\" class=\"data row6 col1\" >3.000000</td>\n",
       "      <td id=\"T_6e1a1_row6_col2\" class=\"data row6 col2\" >38.000000</td>\n",
       "      <td id=\"T_6e1a1_row6_col3\" class=\"data row6 col3\" >2.000000</td>\n",
       "    </tr>\n",
       "    <tr>\n",
       "      <th id=\"T_6e1a1_level0_row7\" class=\"row_heading level0 row7\" >max</th>\n",
       "      <td id=\"T_6e1a1_row7_col0\" class=\"data row7 col0\" >1.000000</td>\n",
       "      <td id=\"T_6e1a1_row7_col1\" class=\"data row7 col1\" >3.000000</td>\n",
       "      <td id=\"T_6e1a1_row7_col2\" class=\"data row7 col2\" >80.000000</td>\n",
       "      <td id=\"T_6e1a1_row7_col3\" class=\"data row7 col3\" >11.000000</td>\n",
       "    </tr>\n",
       "  </tbody>\n",
       "</table>\n"
      ],
      "text/plain": [
       "<pandas.io.formats.style.Styler at 0x1dc08287310>"
      ]
     },
     "execution_count": 116,
     "metadata": {},
     "output_type": "execute_result"
    }
   ],
   "source": [
    "# Resumen estadístico de las variables numéricas\n",
    "df_train.describe().style.background_gradient()"
   ]
  },
  {
   "cell_type": "code",
   "execution_count": 117,
   "id": "fc9ad549",
   "metadata": {},
   "outputs": [
    {
     "data": {
      "text/plain": [
       "<AxesSubplot:>"
      ]
     },
     "execution_count": 117,
     "metadata": {},
     "output_type": "execute_result"
    },
    {
     "data": {
      "image/png": "[encoded data removed]",
      "text/plain": [
       "<Figure size 640x480 with 2 Axes>"
      ]
     },
     "metadata": {},
     "output_type": "display_data"
    }
   ],
   "source": [
    "# Calcular la matriz de correlación\n",
    "sns.heatmap(df_train.corr(),annot = True, fmt = \".2f\")\n"
   ]
  },
  {
   "cell_type": "code",
   "execution_count": 118,
   "id": "b0530228",
   "metadata": {
    "scrolled": true
   },
   "outputs": [
    {
     "name": "stdout",
     "output_type": "stream",
     "text": [
      "0    549\n",
      "1    342\n",
      "Name: Survived, dtype: int64\n"
     ]
    },
    {
     "data": {
      "image/png": "[encoded data removed]",
      "text/plain": [
       "<Figure size 640x480 with 1 Axes>"
      ]
     },
     "metadata": {},
     "output_type": "display_data"
    }
   ],
   "source": [
    "# Contar el número de pasajeros que sobrevivieron y que no sobrevivieron\n",
    "survival_counts = df_train['Survived'].value_counts()\n",
    "# Visualizar la proporción de sobrevivientes\n",
    "print(survival_counts)\n",
    "bplt.pie(survival_counts, labels=['No sobrevivió', 'Sobrevivió'], autopct='%1.1f%%', startangle=90)\n",
    "bplt.title('Proporción de Supervivientes')\n",
    "bplt.show()"
   ]
  },
  {
   "cell_type": "markdown",
   "id": "7f4b5d04",
   "metadata": {},
   "source": [
    "Las etiquetas no están balanceadas, de hecho están muy desbalanceadas. En un gráfico se puede ver mejor:"
   ]
  },
  {
   "cell_type": "code",
   "execution_count": 119,
   "id": "6230f232",
   "metadata": {
    "scrolled": false
   },
   "outputs": [
    {
     "name": "stdout",
     "output_type": "stream",
     "text": [
      "% mujeres supervivientes: 74.20382165605095\n",
      "% hombres supervivientes: 18.890814558058924\n",
      "male      577\n",
      "female    314\n",
      "Name: Sex, dtype: int64\n"
     ]
    },
    {
     "data": {
      "image/png": "[encoded data removed]",
      "text/plain": [
       "<Figure size 640x480 with 1 Axes>"
      ]
     },
     "metadata": {},
     "output_type": "display_data"
    }
   ],
   "source": [
    "sns.barplot(x=\"Sex\", y=\"Survived\", data=df_train)\n",
    "\n",
    "print(\"% mujeres supervivientes:\", df_train[\"Survived\"][df_train[\"Sex\"] == 'female'].value_counts(normalize = True)[1]*100)\n",
    "\n",
    "print(\"% hombres supervivientes:\", df_train[\"Survived\"][df_train[\"Sex\"] == 'male'].value_counts(normalize = True)[1]*100)\n",
    "\n",
    "print(df_train['Sex'].value_counts())"
   ]
  },
  {
   "cell_type": "markdown",
   "id": "368c6a98",
   "metadata": {},
   "source": [
    "Las mujeres son más propensas a sobrevivir"
   ]
  },
  {
   "cell_type": "code",
   "execution_count": 120,
   "id": "75a03e72",
   "metadata": {
    "scrolled": true
   },
   "outputs": [
    {
     "data": {
      "image/png": "[encoded data removed]",
      "text/plain": [
       "<Figure size 640x480 with 1 Axes>"
      ]
     },
     "metadata": {},
     "output_type": "display_data"
    }
   ],
   "source": [
    "sns.histplot(data=df_train, x='Age', kde=True)\n",
    "bplt.title('Age Distribution')\n",
    "bplt.xlabel('Age')\n",
    "bplt.ylabel('Count')\n",
    "bplt.show()"
   ]
  },
  {
   "cell_type": "code",
   "execution_count": 121,
   "id": "d375c14c",
   "metadata": {
    "scrolled": true
   },
   "outputs": [
    {
     "data": {
      "application/vnd.plotly.v1+json": {
       "config": {
        "plotlyServerURL": "https://plot.ly"
       },
       "data": [
        {
         "alignmentgroup": "True",
         "bingroup": "x",
         "hovertemplate": "Survived=0<br>Age=%{x}<br>count=%{y}<extra></extra>",
         "legendgroup": "0",
         "marker": {
          "color": "#ff7f0e",
          "line": {
           "color": "DarkSlateGrey",
           "width": 2
          },
          "pattern": {
           "shape": ""
          }
         },
         "name": "0",
         "offsetgroup": "0",
         "orientation": "v",
         "showlegend": true,
         "type": "histogram",
         "x": [
          22,
          35,
          null,
          54,
          2,
          20,
          39,
          14,
          2,
          31,
          35,
          8,
          null,
          19,
          null,
          40,
          66,
          28,
          42,
          21,
          18,
          40,
          27,
          null,
          null,
          null,
          null,
          18,
          7,
          21,
          65,
          28.5,
          11,
          22,
          45,
          4,
          null,
          19,
          26,
          32,
          16,
          21,
          26,
          25,
          null,
          null,
          22,
          28,
          16,
          null,
          24,
          29,
          20,
          46,
          26,
          59,
          null,
          71,
          34,
          28,
          null,
          21,
          33,
          37,
          28,
          38,
          47,
          14.5,
          22,
          20,
          17,
          21,
          70.5,
          29,
          24,
          2,
          21,
          null,
          32.5,
          54,
          null,
          45,
          33,
          20,
          47,
          25,
          23,
          37,
          16,
          24,
          null,
          19,
          18,
          19,
          9,
          36.5,
          42,
          51,
          55.5,
          40.5,
          null,
          51,
          30,
          null,
          null,
          44,
          26,
          17,
          1,
          45,
          null,
          28,
          61,
          4,
          21,
          56,
          18,
          null,
          50,
          30,
          36,
          null,
          null,
          9,
          null,
          40,
          36,
          19,
          null,
          42,
          24,
          28,
          null,
          34,
          45.5,
          2,
          32,
          24,
          22,
          30,
          null,
          42,
          30,
          27,
          51,
          null,
          22,
          20.5,
          18,
          null,
          29,
          59,
          24,
          null,
          44,
          19,
          33,
          null,
          29,
          22,
          30,
          44,
          25,
          54,
          null,
          29,
          62,
          30,
          41,
          null,
          52,
          40,
          null,
          36,
          16,
          null,
          37,
          45,
          null,
          7,
          65,
          28,
          16,
          null,
          33,
          22,
          36,
          24,
          24,
          null,
          23.5,
          2,
          19,
          null,
          30,
          26,
          28,
          43,
          54,
          22,
          27,
          null,
          61,
          45.5,
          38,
          16,
          null,
          29,
          45,
          28,
          25,
          36,
          42,
          23,
          null,
          15,
          25,
          null,
          28,
          38,
          40,
          29,
          45,
          35,
          null,
          30,
          18,
          19,
          22,
          3,
          27,
          20,
          19,
          32,
          null,
          18,
          1,
          null,
          28,
          22,
          31,
          46,
          23,
          26,
          21,
          28,
          20,
          34,
          51,
          21,
          null,
          null,
          null,
          null,
          null,
          30,
          10,
          null,
          21,
          29,
          28,
          18,
          null,
          null,
          17,
          50,
          21,
          64,
          31,
          20,
          25,
          36,
          null,
          30,
          null,
          65,
          null,
          34,
          47,
          48,
          null,
          38,
          null,
          56,
          null,
          null,
          38,
          22,
          null,
          34,
          29,
          22,
          9,
          null,
          50,
          null,
          58,
          30,
          null,
          21,
          55,
          71,
          21,
          null,
          null,
          25,
          24,
          17,
          21,
          null,
          37,
          18,
          28,
          null,
          24,
          47,
          null,
          32,
          22,
          null,
          null,
          40.5,
          null,
          39,
          23,
          null,
          17,
          30,
          45,
          null,
          9,
          11,
          50,
          64,
          33,
          27,
          null,
          62,
          null,
          null,
          40,
          28,
          null,
          null,
          24,
          19,
          29,
          null,
          16,
          19,
          null,
          54,
          36,
          null,
          47,
          22,
          null,
          35,
          47,
          null,
          37,
          36,
          49,
          null,
          null,
          null,
          44,
          36,
          30,
          39,
          null,
          null,
          35,
          34,
          26,
          26,
          27,
          21,
          21,
          61,
          57,
          26,
          null,
          51,
          null,
          9,
          32,
          31,
          41,
          null,
          20,
          2,
          19,
          null,
          null,
          21,
          18,
          24,
          null,
          32,
          23,
          58,
          40,
          47,
          36,
          32,
          25,
          null,
          43,
          31,
          70,
          null,
          18,
          24.5,
          43,
          null,
          20,
          14,
          60,
          25,
          14,
          19,
          18,
          25,
          60,
          52,
          44,
          49,
          42,
          18,
          25,
          26,
          39,
          null,
          29,
          52,
          19,
          null,
          33,
          17,
          34,
          50,
          20,
          25,
          25,
          11,
          null,
          23,
          23,
          28.5,
          48,
          null,
          null,
          36,
          24,
          70,
          16,
          19,
          31,
          33,
          23,
          28,
          18,
          34,
          null,
          41,
          16,
          null,
          30.5,
          null,
          32,
          24,
          48,
          57,
          null,
          18,
          null,
          null,
          29,
          null,
          25,
          25,
          8,
          46,
          null,
          16,
          null,
          null,
          25,
          39,
          30,
          30,
          34,
          31,
          39,
          18,
          39,
          26,
          39,
          35,
          6,
          30.5,
          null,
          23,
          31,
          43,
          10,
          38,
          2,
          null,
          null,
          null,
          23,
          18,
          21,
          null,
          20,
          16,
          34.5,
          17,
          42,
          null,
          35,
          28,
          4,
          74,
          9,
          44,
          null,
          41,
          21,
          null,
          24,
          31,
          null,
          26,
          33,
          47,
          20,
          19,
          null,
          33,
          22,
          28,
          25,
          39,
          27,
          null,
          32
         ],
         "xaxis": "x",
         "yaxis": "y"
        },
        {
         "alignmentgroup": "True",
         "hovertemplate": "Survived=0<br>Age=%{x}<extra></extra>",
         "legendgroup": "0",
         "marker": {
          "color": "#ff7f0e",
          "line": {
           "color": "DarkSlateGrey",
           "width": 2
          }
         },
         "name": "0",
         "notched": true,
         "offsetgroup": "0",
         "showlegend": false,
         "type": "box",
         "x": [
          22,
          35,
          null,
          54,
          2,
          20,
          39,
          14,
          2,
          31,
          35,
          8,
          null,
          19,
          null,
          40,
          66,
          28,
          42,
          21,
          18,
          40,
          27,
          null,
          null,
          null,
          null,
          18,
          7,
          21,
          65,
          28.5,
          11,
          22,
          45,
          4,
          null,
          19,
          26,
          32,
          16,
          21,
          26,
          25,
          null,
          null,
          22,
          28,
          16,
          null,
          24,
          29,
          20,
          46,
          26,
          59,
          null,
          71,
          34,
          28,
          null,
          21,
          33,
          37,
          28,
          38,
          47,
          14.5,
          22,
          20,
          17,
          21,
          70.5,
          29,
          24,
          2,
          21,
          null,
          32.5,
          54,
          null,
          45,
          33,
          20,
          47,
          25,
          23,
          37,
          16,
          24,
          null,
          19,
          18,
          19,
          9,
          36.5,
          42,
          51,
          55.5,
          40.5,
          null,
          51,
          30,
          null,
          null,
          44,
          26,
          17,
          1,
          45,
          null,
          28,
          61,
          4,
          21,
          56,
          18,
          null,
          50,
          30,
          36,
          null,
          null,
          9,
          null,
          40,
          36,
          19,
          null,
          42,
          24,
          28,
          null,
          34,
          45.5,
          2,
          32,
          24,
          22,
          30,
          null,
          42,
          30,
          27,
          51,
          null,
          22,
          20.5,
          18,
          null,
          29,
          59,
          24,
          null,
          44,
          19,
          33,
          null,
          29,
          22,
          30,
          44,
          25,
          54,
          null,
          29,
          62,
          30,
          41,
          null,
          52,
          40,
          null,
          36,
          16,
          null,
          37,
          45,
          null,
          7,
          65,
          28,
          16,
          null,
          33,
          22,
          36,
          24,
          24,
          null,
          23.5,
          2,
          19,
          null,
          30,
          26,
          28,
          43,
          54,
          22,
          27,
          null,
          61,
          45.5,
          38,
          16,
          null,
          29,
          45,
          28,
          25,
          36,
          42,
          23,
          null,
          15,
          25,
          null,
          28,
          38,
          40,
          29,
          45,
          35,
          null,
          30,
          18,
          19,
          22,
          3,
          27,
          20,
          19,
          32,
          null,
          18,
          1,
          null,
          28,
          22,
          31,
          46,
          23,
          26,
          21,
          28,
          20,
          34,
          51,
          21,
          null,
          null,
          null,
          null,
          null,
          30,
          10,
          null,
          21,
          29,
          28,
          18,
          null,
          null,
          17,
          50,
          21,
          64,
          31,
          20,
          25,
          36,
          null,
          30,
          null,
          65,
          null,
          34,
          47,
          48,
          null,
          38,
          null,
          56,
          null,
          null,
          38,
          22,
          null,
          34,
          29,
          22,
          9,
          null,
          50,
          null,
          58,
          30,
          null,
          21,
          55,
          71,
          21,
          null,
          null,
          25,
          24,
          17,
          21,
          null,
          37,
          18,
          28,
          null,
          24,
          47,
          null,
          32,
          22,
          null,
          null,
          40.5,
          null,
          39,
          23,
          null,
          17,
          30,
          45,
          null,
          9,
          11,
          50,
          64,
          33,
          27,
          null,
          62,
          null,
          null,
          40,
          28,
          null,
          null,
          24,
          19,
          29,
          null,
          16,
          19,
          null,
          54,
          36,
          null,
          47,
          22,
          null,
          35,
          47,
          null,
          37,
          36,
          49,
          null,
          null,
          null,
          44,
          36,
          30,
          39,
          null,
          null,
          35,
          34,
          26,
          26,
          27,
          21,
          21,
          61,
          57,
          26,
          null,
          51,
          null,
          9,
          32,
          31,
          41,
          null,
          20,
          2,
          19,
          null,
          null,
          21,
          18,
          24,
          null,
          32,
          23,
          58,
          40,
          47,
          36,
          32,
          25,
          null,
          43,
          31,
          70,
          null,
          18,
          24.5,
          43,
          null,
          20,
          14,
          60,
          25,
          14,
          19,
          18,
          25,
          60,
          52,
          44,
          49,
          42,
          18,
          25,
          26,
          39,
          null,
          29,
          52,
          19,
          null,
          33,
          17,
          34,
          50,
          20,
          25,
          25,
          11,
          null,
          23,
          23,
          28.5,
          48,
          null,
          null,
          36,
          24,
          70,
          16,
          19,
          31,
          33,
          23,
          28,
          18,
          34,
          null,
          41,
          16,
          null,
          30.5,
          null,
          32,
          24,
          48,
          57,
          null,
          18,
          null,
          null,
          29,
          null,
          25,
          25,
          8,
          46,
          null,
          16,
          null,
          null,
          25,
          39,
          30,
          30,
          34,
          31,
          39,
          18,
          39,
          26,
          39,
          35,
          6,
          30.5,
          null,
          23,
          31,
          43,
          10,
          38,
          2,
          null,
          null,
          null,
          23,
          18,
          21,
          null,
          20,
          16,
          34.5,
          17,
          42,
          null,
          35,
          28,
          4,
          74,
          9,
          44,
          null,
          41,
          21,
          null,
          24,
          31,
          null,
          26,
          33,
          47,
          20,
          19,
          null,
          33,
          22,
          28,
          25,
          39,
          27,
          null,
          32
         ],
         "xaxis": "x2",
         "yaxis": "y2"
        },
        {
         "alignmentgroup": "True",
         "bingroup": "x",
         "hovertemplate": "Survived=1<br>Age=%{x}<br>count=%{y}<extra></extra>",
         "legendgroup": "1",
         "marker": {
          "color": "#3498db",
          "line": {
           "color": "DarkSlateGrey",
           "width": 2
          },
          "pattern": {
           "shape": ""
          }
         },
         "name": "1",
         "offsetgroup": "1",
         "orientation": "v",
         "showlegend": true,
         "type": "histogram",
         "x": [
          38,
          26,
          35,
          27,
          14,
          4,
          58,
          55,
          null,
          null,
          34,
          15,
          28,
          38,
          null,
          null,
          null,
          null,
          14,
          3,
          19,
          null,
          49,
          29,
          null,
          21,
          5,
          38,
          null,
          29,
          17,
          32,
          0.83,
          30,
          29,
          null,
          17,
          33,
          23,
          23,
          34,
          21,
          null,
          null,
          32.5,
          12,
          24,
          null,
          29,
          19,
          22,
          24,
          27,
          22,
          16,
          40,
          9,
          null,
          1,
          1,
          4,
          null,
          45,
          32,
          19,
          3,
          44,
          58,
          null,
          18,
          26,
          16,
          40,
          35,
          31,
          27,
          32,
          16,
          38,
          19,
          35,
          5,
          8,
          null,
          24,
          37,
          29,
          null,
          30,
          35,
          50,
          3,
          25,
          58,
          35,
          25,
          41,
          null,
          63,
          35,
          19,
          30,
          42,
          22,
          26,
          19,
          null,
          50,
          null,
          null,
          null,
          0.92,
          null,
          17,
          30,
          24,
          18,
          26,
          24,
          31,
          40,
          30,
          22,
          36,
          36,
          31,
          16,
          null,
          null,
          41,
          45,
          2,
          24,
          24,
          40,
          null,
          3,
          22,
          null,
          null,
          60,
          null,
          null,
          24,
          25,
          null,
          22,
          42,
          1,
          35,
          36,
          17,
          36,
          21,
          23,
          24,
          28,
          39,
          3,
          33,
          44,
          34,
          18,
          28,
          19,
          32,
          28,
          null,
          42,
          14,
          24,
          45,
          28,
          null,
          4,
          13,
          34,
          5,
          52,
          49,
          29,
          null,
          50,
          48,
          0.75,
          33,
          23,
          2,
          63,
          25,
          35,
          9,
          54,
          16,
          33,
          null,
          26,
          29,
          36,
          54,
          34,
          36,
          30,
          44,
          50,
          2,
          null,
          7,
          30,
          22,
          36,
          32,
          19,
          null,
          8,
          17,
          22,
          22,
          48,
          39,
          36,
          32,
          62,
          53,
          36,
          null,
          34,
          39,
          32,
          25,
          39,
          18,
          60,
          52,
          null,
          49,
          24,
          35,
          27,
          22,
          40,
          null,
          24,
          4,
          42,
          20,
          21,
          80,
          32,
          28,
          24,
          null,
          0.75,
          48,
          56,
          23,
          18,
          null,
          50,
          20,
          null,
          40,
          31,
          18,
          36,
          27,
          15,
          31,
          4,
          null,
          null,
          18,
          35,
          45,
          42,
          22,
          null,
          24,
          48,
          38,
          27,
          6,
          27,
          30,
          null,
          29,
          35,
          null,
          21,
          31,
          30,
          4,
          6,
          48,
          0.67,
          33,
          20,
          36,
          51,
          54,
          5,
          43,
          13,
          17,
          18,
          1,
          49,
          31,
          31,
          11,
          0.42,
          27,
          33,
          52,
          27,
          27,
          1,
          null,
          62,
          15,
          0.83,
          39,
          32,
          null,
          30,
          null,
          16,
          18,
          45,
          51,
          24,
          48,
          42,
          27,
          4,
          47,
          28,
          15,
          56,
          25,
          19,
          26
         ],
         "xaxis": "x",
         "yaxis": "y"
        },
        {
         "alignmentgroup": "True",
         "hovertemplate": "Survived=1<br>Age=%{x}<extra></extra>",
         "legendgroup": "1",
         "marker": {
          "color": "#3498db",
          "line": {
           "color": "DarkSlateGrey",
           "width": 2
          }
         },
         "name": "1",
         "notched": true,
         "offsetgroup": "1",
         "showlegend": false,
         "type": "box",
         "x": [
          38,
          26,
          35,
          27,
          14,
          4,
          58,
          55,
          null,
          null,
          34,
          15,
          28,
          38,
          null,
          null,
          null,
          null,
          14,
          3,
          19,
          null,
          49,
          29,
          null,
          21,
          5,
          38,
          null,
          29,
          17,
          32,
          0.83,
          30,
          29,
          null,
          17,
          33,
          23,
          23,
          34,
          21,
          null,
          null,
          32.5,
          12,
          24,
          null,
          29,
          19,
          22,
          24,
          27,
          22,
          16,
          40,
          9,
          null,
          1,
          1,
          4,
          null,
          45,
          32,
          19,
          3,
          44,
          58,
          null,
          18,
          26,
          16,
          40,
          35,
          31,
          27,
          32,
          16,
          38,
          19,
          35,
          5,
          8,
          null,
          24,
          37,
          29,
          null,
          30,
          35,
          50,
          3,
          25,
          58,
          35,
          25,
          41,
          null,
          63,
          35,
          19,
          30,
          42,
          22,
          26,
          19,
          null,
          50,
          null,
          null,
          null,
          0.92,
          null,
          17,
          30,
          24,
          18,
          26,
          24,
          31,
          40,
          30,
          22,
          36,
          36,
          31,
          16,
          null,
          null,
          41,
          45,
          2,
          24,
          24,
          40,
          null,
          3,
          22,
          null,
          null,
          60,
          null,
          null,
          24,
          25,
          null,
          22,
          42,
          1,
          35,
          36,
          17,
          36,
          21,
          23,
          24,
          28,
          39,
          3,
          33,
          44,
          34,
          18,
          28,
          19,
          32,
          28,
          null,
          42,
          14,
          24,
          45,
          28,
          null,
          4,
          13,
          34,
          5,
          52,
          49,
          29,
          null,
          50,
          48,
          0.75,
          33,
          23,
          2,
          63,
          25,
          35,
          9,
          54,
          16,
          33,
          null,
          26,
          29,
          36,
          54,
          34,
          36,
          30,
          44,
          50,
          2,
          null,
          7,
          30,
          22,
          36,
          32,
          19,
          null,
          8,
          17,
          22,
          22,
          48,
          39,
          36,
          32,
          62,
          53,
          36,
          null,
          34,
          39,
          32,
          25,
          39,
          18,
          60,
          52,
          null,
          49,
          24,
          35,
          27,
          22,
          40,
          null,
          24,
          4,
          42,
          20,
          21,
          80,
          32,
          28,
          24,
          null,
          0.75,
          48,
          56,
          23,
          18,
          null,
          50,
          20,
          null,
          40,
          31,
          18,
          36,
          27,
          15,
          31,
          4,
          null,
          null,
          18,
          35,
          45,
          42,
          22,
          null,
          24,
          48,
          38,
          27,
          6,
          27,
          30,
          null,
          29,
          35,
          null,
          21,
          31,
          30,
          4,
          6,
          48,
          0.67,
          33,
          20,
          36,
          51,
          54,
          5,
          43,
          13,
          17,
          18,
          1,
          49,
          31,
          31,
          11,
          0.42,
          27,
          33,
          52,
          27,
          27,
          1,
          null,
          62,
          15,
          0.83,
          39,
          32,
          null,
          30,
          null,
          16,
          18,
          45,
          51,
          24,
          48,
          42,
          27,
          4,
          47,
          28,
          15,
          56,
          25,
          19,
          26
         ],
         "xaxis": "x2",
         "yaxis": "y2"
        }
       ],
       "layout": {
        "barmode": "group",
        "legend": {
         "title": {
          "text": "Survived"
         },
         "tracegroupgap": 0
        },
        "paper_bgcolor": "rgb(233,233,233)",
        "plot_bgcolor": "rgb(233,233,233)",
        "template": {
         "data": {
          "bar": [
           {
            "error_x": {
             "color": "#2a3f5f"
            },
            "error_y": {
             "color": "#2a3f5f"
            },
            "marker": {
             "line": {
              "color": "#E5ECF6",
              "width": 0.5
             },
             "pattern": {
              "fillmode": "overlay",
              "size": 10,
              "solidity": 0.2
             }
            },
            "type": "bar"
           }
          ],
          "barpolar": [
           {
            "marker": {
             "line": {
              "color": "#E5ECF6",
              "width": 0.5
             },
             "pattern": {
              "fillmode": "overlay",
              "size": 10,
              "solidity": 0.2
             }
            },
            "type": "barpolar"
           }
          ],
          "carpet": [
           {
            "aaxis": {
             "endlinecolor": "#2a3f5f",
             "gridcolor": "white",
             "linecolor": "white",
             "minorgridcolor": "white",
             "startlinecolor": "#2a3f5f"
            },
            "baxis": {
             "endlinecolor": "#2a3f5f",
             "gridcolor": "white",
             "linecolor": "white",
             "minorgridcolor": "white",
             "startlinecolor": "#2a3f5f"
            },
            "type": "carpet"
           }
          ],
          "choropleth": [
           {
            "colorbar": {
             "outlinewidth": 0,
             "ticks": ""
            },
            "type": "choropleth"
           }
          ],
          "contour": [
           {
            "colorbar": {
             "outlinewidth": 0,
             "ticks": ""
            },
            "colorscale": [
             [
              0,
              "#0d0887"
             ],
             [
              0.1111111111111111,
              "#46039f"
             ],
             [
              0.2222222222222222,
              "#7201a8"
             ],
             [
              0.3333333333333333,
              "#9c179e"
             ],
             [
              0.4444444444444444,
              "#bd3786"
             ],
             [
              0.5555555555555556,
              "#d8576b"
             ],
             [
              0.6666666666666666,
              "#ed7953"
             ],
             [
              0.7777777777777778,
              "#fb9f3a"
             ],
             [
              0.8888888888888888,
              "#fdca26"
             ],
             [
              1,
              "#f0f921"
             ]
            ],
            "type": "contour"
           }
          ],
          "contourcarpet": [
           {
            "colorbar": {
             "outlinewidth": 0,
             "ticks": ""
            },
            "type": "contourcarpet"
           }
          ],
          "heatmap": [
           {
            "colorbar": {
             "outlinewidth": 0,
             "ticks": ""
            },
            "colorscale": [
             [
              0,
              "#0d0887"
             ],
             [
              0.1111111111111111,
              "#46039f"
             ],
             [
              0.2222222222222222,
              "#7201a8"
             ],
             [
              0.3333333333333333,
              "#9c179e"
             ],
             [
              0.4444444444444444,
              "#bd3786"
             ],
             [
              0.5555555555555556,
              "#d8576b"
             ],
             [
              0.6666666666666666,
              "#ed7953"
             ],
             [
              0.7777777777777778,
              "#fb9f3a"
             ],
             [
              0.8888888888888888,
              "#fdca26"
             ],
             [
              1,
              "#f0f921"
             ]
            ],
            "type": "heatmap"
           }
          ],
          "heatmapgl": [
           {
            "colorbar": {
             "outlinewidth": 0,
             "ticks": ""
            },
            "colorscale": [
             [
              0,
              "#0d0887"
             ],
             [
              0.1111111111111111,
              "#46039f"
             ],
             [
              0.2222222222222222,
              "#7201a8"
             ],
             [
              0.3333333333333333,
              "#9c179e"
             ],
             [
              0.4444444444444444,
              "#bd3786"
             ],
             [
              0.5555555555555556,
              "#d8576b"
             ],
             [
              0.6666666666666666,
              "#ed7953"
             ],
             [
              0.7777777777777778,
              "#fb9f3a"
             ],
             [
              0.8888888888888888,
              "#fdca26"
             ],
             [
              1,
              "#f0f921"
             ]
            ],
            "type": "heatmapgl"
           }
          ],
          "histogram": [
           {
            "marker": {
             "pattern": {
              "fillmode": "overlay",
              "size": 10,
              "solidity": 0.2
             }
            },
            "type": "histogram"
           }
          ],
          "histogram2d": [
           {
            "colorbar": {
             "outlinewidth": 0,
             "ticks": ""
            },
            "colorscale": [
             [
              0,
              "#0d0887"
             ],
             [
              0.1111111111111111,
              "#46039f"
             ],
             [
              0.2222222222222222,
              "#7201a8"
             ],
             [
              0.3333333333333333,
              "#9c179e"
             ],
             [
              0.4444444444444444,
              "#bd3786"
             ],
             [
              0.5555555555555556,
              "#d8576b"
             ],
             [
              0.6666666666666666,
              "#ed7953"
             ],
             [
              0.7777777777777778,
              "#fb9f3a"
             ],
             [
              0.8888888888888888,
              "#fdca26"
             ],
             [
              1,
              "#f0f921"
             ]
            ],
            "type": "histogram2d"
           }
          ],
          "histogram2dcontour": [
           {
            "colorbar": {
             "outlinewidth": 0,
             "ticks": ""
            },
            "colorscale": [
             [
              0,
              "#0d0887"
             ],
             [
              0.1111111111111111,
              "#46039f"
             ],
             [
              0.2222222222222222,
              "#7201a8"
             ],
             [
              0.3333333333333333,
              "#9c179e"
             ],
             [
              0.4444444444444444,
              "#bd3786"
             ],
             [
              0.5555555555555556,
              "#d8576b"
             ],
             [
              0.6666666666666666,
              "#ed7953"
             ],
             [
              0.7777777777777778,
              "#fb9f3a"
             ],
             [
              0.8888888888888888,
              "#fdca26"
             ],
             [
              1,
              "#f0f921"
             ]
            ],
            "type": "histogram2dcontour"
           }
          ],
          "mesh3d": [
           {
            "colorbar": {
             "outlinewidth": 0,
             "ticks": ""
            },
            "type": "mesh3d"
           }
          ],
          "parcoords": [
           {
            "line": {
             "colorbar": {
              "outlinewidth": 0,
              "ticks": ""
             }
            },
            "type": "parcoords"
           }
          ],
          "pie": [
           {
            "automargin": true,
            "type": "pie"
           }
          ],
          "scatter": [
           {
            "fillpattern": {
             "fillmode": "overlay",
             "size": 10,
             "solidity": 0.2
            },
            "type": "scatter"
           }
          ],
          "scatter3d": [
           {
            "line": {
             "colorbar": {
              "outlinewidth": 0,
              "ticks": ""
             }
            },
            "marker": {
             "colorbar": {
              "outlinewidth": 0,
              "ticks": ""
             }
            },
            "type": "scatter3d"
           }
          ],
          "scattercarpet": [
           {
            "marker": {
             "colorbar": {
              "outlinewidth": 0,
              "ticks": ""
             }
            },
            "type": "scattercarpet"
           }
          ],
          "scattergeo": [
           {
            "marker": {
             "colorbar": {
              "outlinewidth": 0,
              "ticks": ""
             }
            },
            "type": "scattergeo"
           }
          ],
          "scattergl": [
           {
            "marker": {
             "colorbar": {
              "outlinewidth": 0,
              "ticks": ""
             }
            },
            "type": "scattergl"
           }
          ],
          "scattermapbox": [
           {
            "marker": {
             "colorbar": {
              "outlinewidth": 0,
              "ticks": ""
             }
            },
            "type": "scattermapbox"
           }
          ],
          "scatterpolar": [
           {
            "marker": {
             "colorbar": {
              "outlinewidth": 0,
              "ticks": ""
             }
            },
            "type": "scatterpolar"
           }
          ],
          "scatterpolargl": [
           {
            "marker": {
             "colorbar": {
              "outlinewidth": 0,
              "ticks": ""
             }
            },
            "type": "scatterpolargl"
           }
          ],
          "scatterternary": [
           {
            "marker": {
             "colorbar": {
              "outlinewidth": 0,
              "ticks": ""
             }
            },
            "type": "scatterternary"
           }
          ],
          "surface": [
           {
            "colorbar": {
             "outlinewidth": 0,
             "ticks": ""
            },
            "colorscale": [
             [
              0,
              "#0d0887"
             ],
             [
              0.1111111111111111,
              "#46039f"
             ],
             [
              0.2222222222222222,
              "#7201a8"
             ],
             [
              0.3333333333333333,
              "#9c179e"
             ],
             [
              0.4444444444444444,
              "#bd3786"
             ],
             [
              0.5555555555555556,
              "#d8576b"
             ],
             [
              0.6666666666666666,
              "#ed7953"
             ],
             [
              0.7777777777777778,
              "#fb9f3a"
             ],
             [
              0.8888888888888888,
              "#fdca26"
             ],
             [
              1,
              "#f0f921"
             ]
            ],
            "type": "surface"
           }
          ],
          "table": [
           {
            "cells": {
             "fill": {
              "color": "#EBF0F8"
             },
             "line": {
              "color": "white"
             }
            },
            "header": {
             "fill": {
              "color": "#C8D4E3"
             },
             "line": {
              "color": "white"
             }
            },
            "type": "table"
           }
          ]
         },
         "layout": {
          "annotationdefaults": {
           "arrowcolor": "#2a3f5f",
           "arrowhead": 0,
           "arrowwidth": 1
          },
          "autotypenumbers": "strict",
          "coloraxis": {
           "colorbar": {
            "outlinewidth": 0,
            "ticks": ""
           }
          },
          "colorscale": {
           "diverging": [
            [
             0,
             "#8e0152"
            ],
            [
             0.1,
             "#c51b7d"
            ],
            [
             0.2,
             "#de77ae"
            ],
            [
             0.3,
             "#f1b6da"
            ],
            [
             0.4,
             "#fde0ef"
            ],
            [
             0.5,
             "#f7f7f7"
            ],
            [
             0.6,
             "#e6f5d0"
            ],
            [
             0.7,
             "#b8e186"
            ],
            [
             0.8,
             "#7fbc41"
            ],
            [
             0.9,
             "#4d9221"
            ],
            [
             1,
             "#276419"
            ]
           ],
           "sequential": [
            [
             0,
             "#0d0887"
            ],
            [
             0.1111111111111111,
             "#46039f"
            ],
            [
             0.2222222222222222,
             "#7201a8"
            ],
            [
             0.3333333333333333,
             "#9c179e"
            ],
            [
             0.4444444444444444,
             "#bd3786"
            ],
            [
             0.5555555555555556,
             "#d8576b"
            ],
            [
             0.6666666666666666,
             "#ed7953"
            ],
            [
             0.7777777777777778,
             "#fb9f3a"
            ],
            [
             0.8888888888888888,
             "#fdca26"
            ],
            [
             1,
             "#f0f921"
            ]
           ],
           "sequentialminus": [
            [
             0,
             "#0d0887"
            ],
            [
             0.1111111111111111,
             "#46039f"
            ],
            [
             0.2222222222222222,
             "#7201a8"
            ],
            [
             0.3333333333333333,
             "#9c179e"
            ],
            [
             0.4444444444444444,
             "#bd3786"
            ],
            [
             0.5555555555555556,
             "#d8576b"
            ],
            [
             0.6666666666666666,
             "#ed7953"
            ],
            [
             0.7777777777777778,
             "#fb9f3a"
            ],
            [
             0.8888888888888888,
             "#fdca26"
            ],
            [
             1,
             "#f0f921"
            ]
           ]
          },
          "colorway": [
           "#636efa",
           "#EF553B",
           "#00cc96",
           "#ab63fa",
           "#FFA15A",
           "#19d3f3",
           "#FF6692",
           "#B6E880",
           "#FF97FF",
           "#FECB52"
          ],
          "font": {
           "color": "#2a3f5f"
          },
          "geo": {
           "bgcolor": "white",
           "lakecolor": "white",
           "landcolor": "#E5ECF6",
           "showlakes": true,
           "showland": true,
           "subunitcolor": "white"
          },
          "hoverlabel": {
           "align": "left"
          },
          "hovermode": "closest",
          "mapbox": {
           "style": "light"
          },
          "paper_bgcolor": "white",
          "plot_bgcolor": "#E5ECF6",
          "polar": {
           "angularaxis": {
            "gridcolor": "white",
            "linecolor": "white",
            "ticks": ""
           },
           "bgcolor": "#E5ECF6",
           "radialaxis": {
            "gridcolor": "white",
            "linecolor": "white",
            "ticks": ""
           }
          },
          "scene": {
           "xaxis": {
            "backgroundcolor": "#E5ECF6",
            "gridcolor": "white",
            "gridwidth": 2,
            "linecolor": "white",
            "showbackground": true,
            "ticks": "",
            "zerolinecolor": "white"
           },
           "yaxis": {
            "backgroundcolor": "#E5ECF6",
            "gridcolor": "white",
            "gridwidth": 2,
            "linecolor": "white",
            "showbackground": true,
            "ticks": "",
            "zerolinecolor": "white"
           },
           "zaxis": {
            "backgroundcolor": "#E5ECF6",
            "gridcolor": "white",
            "gridwidth": 2,
            "linecolor": "white",
            "showbackground": true,
            "ticks": "",
            "zerolinecolor": "white"
           }
          },
          "shapedefaults": {
           "line": {
            "color": "#2a3f5f"
           }
          },
          "ternary": {
           "aaxis": {
            "gridcolor": "white",
            "linecolor": "white",
            "ticks": ""
           },
           "baxis": {
            "gridcolor": "white",
            "linecolor": "white",
            "ticks": ""
           },
           "bgcolor": "#E5ECF6",
           "caxis": {
            "gridcolor": "white",
            "linecolor": "white",
            "ticks": ""
           }
          },
          "title": {
           "x": 0.05
          },
          "xaxis": {
           "automargin": true,
           "gridcolor": "white",
           "linecolor": "white",
           "ticks": "",
           "title": {
            "standoff": 15
           },
           "zerolinecolor": "white",
           "zerolinewidth": 2
          },
          "yaxis": {
           "automargin": true,
           "gridcolor": "white",
           "linecolor": "white",
           "ticks": "",
           "title": {
            "standoff": 15
           },
           "zerolinecolor": "white",
           "zerolinewidth": 2
          }
         }
        },
        "title": {
         "text": "Survival by Age"
        },
        "xaxis": {
         "anchor": "y",
         "domain": [
          0,
          1
         ],
         "showgrid": false,
         "title": {
          "text": "Age"
         },
         "zeroline": false
        },
        "xaxis2": {
         "anchor": "y2",
         "domain": [
          0,
          1
         ],
         "matches": "x",
         "showgrid": true,
         "showticklabels": false
        },
        "yaxis": {
         "anchor": "x",
         "domain": [
          0,
          0.7326
         ],
         "gridcolor": "white",
         "title": {
          "text": "count"
         },
         "zeroline": false
        },
        "yaxis2": {
         "anchor": "x2",
         "domain": [
          0.7426,
          1
         ],
         "matches": "y2",
         "showgrid": false,
         "showline": false,
         "showticklabels": false,
         "ticks": ""
        }
       }
      },
      "text/html": [
       "<div>                            <div id=\"97899afb-00dd-4167-964f-4bb56869d900\" class=\"plotly-graph-div\" style=\"height:525px; width:100%;\"></div>            <script type=\"text/javascript\">                require([\"plotly\"], function(Plotly) {                    window.PLOTLYENV=window.PLOTLYENV || {};                                    if (document.getElementById(\"97899afb-00dd-4167-964f-4bb56869d900\")) {                    Plotly.newPlot(                        \"97899afb-00dd-4167-964f-4bb56869d900\",                        [{\"alignmentgroup\":\"True\",\"bingroup\":\"x\",\"hovertemplate\":\"Survived=0<br>Age=%{x}<br>count=%{y}<extra></extra>\",\"legendgroup\":\"0\",\"marker\":{\"color\":\"#ff7f0e\",\"pattern\":{\"shape\":\"\"},\"line\":{\"color\":\"DarkSlateGrey\",\"width\":2}},\"name\":\"0\",\"offsetgroup\":\"0\",\"orientation\":\"v\",\"showlegend\":true,\"x\":[22.0,35.0,null,54.0,2.0,20.0,39.0,14.0,2.0,31.0,35.0,8.0,null,19.0,null,40.0,66.0,28.0,42.0,21.0,18.0,40.0,27.0,null,null,null,null,18.0,7.0,21.0,65.0,28.5,11.0,22.0,45.0,4.0,null,19.0,26.0,32.0,16.0,21.0,26.0,25.0,null,null,22.0,28.0,16.0,null,24.0,29.0,20.0,46.0,26.0,59.0,null,71.0,34.0,28.0,null,21.0,33.0,37.0,28.0,38.0,47.0,14.5,22.0,20.0,17.0,21.0,70.5,29.0,24.0,2.0,21.0,null,32.5,54.0,null,45.0,33.0,20.0,47.0,25.0,23.0,37.0,16.0,24.0,null,19.0,18.0,19.0,9.0,36.5,42.0,51.0,55.5,40.5,null,51.0,30.0,null,null,44.0,26.0,17.0,1.0,45.0,null,28.0,61.0,4.0,21.0,56.0,18.0,null,50.0,30.0,36.0,null,null,9.0,null,40.0,36.0,19.0,null,42.0,24.0,28.0,null,34.0,45.5,2.0,32.0,24.0,22.0,30.0,null,42.0,30.0,27.0,51.0,null,22.0,20.5,18.0,null,29.0,59.0,24.0,null,44.0,19.0,33.0,null,29.0,22.0,30.0,44.0,25.0,54.0,null,29.0,62.0,30.0,41.0,null,52.0,40.0,null,36.0,16.0,null,37.0,45.0,null,7.0,65.0,28.0,16.0,null,33.0,22.0,36.0,24.0,24.0,null,23.5,2.0,19.0,null,30.0,26.0,28.0,43.0,54.0,22.0,27.0,null,61.0,45.5,38.0,16.0,null,29.0,45.0,28.0,25.0,36.0,42.0,23.0,null,15.0,25.0,null,28.0,38.0,40.0,29.0,45.0,35.0,null,30.0,18.0,19.0,22.0,3.0,27.0,20.0,19.0,32.0,null,18.0,1.0,null,28.0,22.0,31.0,46.0,23.0,26.0,21.0,28.0,20.0,34.0,51.0,21.0,null,null,null,null,null,30.0,10.0,null,21.0,29.0,28.0,18.0,null,null,17.0,50.0,21.0,64.0,31.0,20.0,25.0,36.0,null,30.0,null,65.0,null,34.0,47.0,48.0,null,38.0,null,56.0,null,null,38.0,22.0,null,34.0,29.0,22.0,9.0,null,50.0,null,58.0,30.0,null,21.0,55.0,71.0,21.0,null,null,25.0,24.0,17.0,21.0,null,37.0,18.0,28.0,null,24.0,47.0,null,32.0,22.0,null,null,40.5,null,39.0,23.0,null,17.0,30.0,45.0,null,9.0,11.0,50.0,64.0,33.0,27.0,null,62.0,null,null,40.0,28.0,null,null,24.0,19.0,29.0,null,16.0,19.0,null,54.0,36.0,null,47.0,22.0,null,35.0,47.0,null,37.0,36.0,49.0,null,null,null,44.0,36.0,30.0,39.0,null,null,35.0,34.0,26.0,26.0,27.0,21.0,21.0,61.0,57.0,26.0,null,51.0,null,9.0,32.0,31.0,41.0,null,20.0,2.0,19.0,null,null,21.0,18.0,24.0,null,32.0,23.0,58.0,40.0,47.0,36.0,32.0,25.0,null,43.0,31.0,70.0,null,18.0,24.5,43.0,null,20.0,14.0,60.0,25.0,14.0,19.0,18.0,25.0,60.0,52.0,44.0,49.0,42.0,18.0,25.0,26.0,39.0,null,29.0,52.0,19.0,null,33.0,17.0,34.0,50.0,20.0,25.0,25.0,11.0,null,23.0,23.0,28.5,48.0,null,null,36.0,24.0,70.0,16.0,19.0,31.0,33.0,23.0,28.0,18.0,34.0,null,41.0,16.0,null,30.5,null,32.0,24.0,48.0,57.0,null,18.0,null,null,29.0,null,25.0,25.0,8.0,46.0,null,16.0,null,null,25.0,39.0,30.0,30.0,34.0,31.0,39.0,18.0,39.0,26.0,39.0,35.0,6.0,30.5,null,23.0,31.0,43.0,10.0,38.0,2.0,null,null,null,23.0,18.0,21.0,null,20.0,16.0,34.5,17.0,42.0,null,35.0,28.0,4.0,74.0,9.0,44.0,null,41.0,21.0,null,24.0,31.0,null,26.0,33.0,47.0,20.0,19.0,null,33.0,22.0,28.0,25.0,39.0,27.0,null,32.0],\"xaxis\":\"x\",\"yaxis\":\"y\",\"type\":\"histogram\"},{\"alignmentgroup\":\"True\",\"hovertemplate\":\"Survived=0<br>Age=%{x}<extra></extra>\",\"legendgroup\":\"0\",\"marker\":{\"color\":\"#ff7f0e\",\"line\":{\"color\":\"DarkSlateGrey\",\"width\":2}},\"name\":\"0\",\"notched\":true,\"offsetgroup\":\"0\",\"showlegend\":false,\"x\":[22.0,35.0,null,54.0,2.0,20.0,39.0,14.0,2.0,31.0,35.0,8.0,null,19.0,null,40.0,66.0,28.0,42.0,21.0,18.0,40.0,27.0,null,null,null,null,18.0,7.0,21.0,65.0,28.5,11.0,22.0,45.0,4.0,null,19.0,26.0,32.0,16.0,21.0,26.0,25.0,null,null,22.0,28.0,16.0,null,24.0,29.0,20.0,46.0,26.0,59.0,null,71.0,34.0,28.0,null,21.0,33.0,37.0,28.0,38.0,47.0,14.5,22.0,20.0,17.0,21.0,70.5,29.0,24.0,2.0,21.0,null,32.5,54.0,null,45.0,33.0,20.0,47.0,25.0,23.0,37.0,16.0,24.0,null,19.0,18.0,19.0,9.0,36.5,42.0,51.0,55.5,40.5,null,51.0,30.0,null,null,44.0,26.0,17.0,1.0,45.0,null,28.0,61.0,4.0,21.0,56.0,18.0,null,50.0,30.0,36.0,null,null,9.0,null,40.0,36.0,19.0,null,42.0,24.0,28.0,null,34.0,45.5,2.0,32.0,24.0,22.0,30.0,null,42.0,30.0,27.0,51.0,null,22.0,20.5,18.0,null,29.0,59.0,24.0,null,44.0,19.0,33.0,null,29.0,22.0,30.0,44.0,25.0,54.0,null,29.0,62.0,30.0,41.0,null,52.0,40.0,null,36.0,16.0,null,37.0,45.0,null,7.0,65.0,28.0,16.0,null,33.0,22.0,36.0,24.0,24.0,null,23.5,2.0,19.0,null,30.0,26.0,28.0,43.0,54.0,22.0,27.0,null,61.0,45.5,38.0,16.0,null,29.0,45.0,28.0,25.0,36.0,42.0,23.0,null,15.0,25.0,null,28.0,38.0,40.0,29.0,45.0,35.0,null,30.0,18.0,19.0,22.0,3.0,27.0,20.0,19.0,32.0,null,18.0,1.0,null,28.0,22.0,31.0,46.0,23.0,26.0,21.0,28.0,20.0,34.0,51.0,21.0,null,null,null,null,null,30.0,10.0,null,21.0,29.0,28.0,18.0,null,null,17.0,50.0,21.0,64.0,31.0,20.0,25.0,36.0,null,30.0,null,65.0,null,34.0,47.0,48.0,null,38.0,null,56.0,null,null,38.0,22.0,null,34.0,29.0,22.0,9.0,null,50.0,null,58.0,30.0,null,21.0,55.0,71.0,21.0,null,null,25.0,24.0,17.0,21.0,null,37.0,18.0,28.0,null,24.0,47.0,null,32.0,22.0,null,null,40.5,null,39.0,23.0,null,17.0,30.0,45.0,null,9.0,11.0,50.0,64.0,33.0,27.0,null,62.0,null,null,40.0,28.0,null,null,24.0,19.0,29.0,null,16.0,19.0,null,54.0,36.0,null,47.0,22.0,null,35.0,47.0,null,37.0,36.0,49.0,null,null,null,44.0,36.0,30.0,39.0,null,null,35.0,34.0,26.0,26.0,27.0,21.0,21.0,61.0,57.0,26.0,null,51.0,null,9.0,32.0,31.0,41.0,null,20.0,2.0,19.0,null,null,21.0,18.0,24.0,null,32.0,23.0,58.0,40.0,47.0,36.0,32.0,25.0,null,43.0,31.0,70.0,null,18.0,24.5,43.0,null,20.0,14.0,60.0,25.0,14.0,19.0,18.0,25.0,60.0,52.0,44.0,49.0,42.0,18.0,25.0,26.0,39.0,null,29.0,52.0,19.0,null,33.0,17.0,34.0,50.0,20.0,25.0,25.0,11.0,null,23.0,23.0,28.5,48.0,null,null,36.0,24.0,70.0,16.0,19.0,31.0,33.0,23.0,28.0,18.0,34.0,null,41.0,16.0,null,30.5,null,32.0,24.0,48.0,57.0,null,18.0,null,null,29.0,null,25.0,25.0,8.0,46.0,null,16.0,null,null,25.0,39.0,30.0,30.0,34.0,31.0,39.0,18.0,39.0,26.0,39.0,35.0,6.0,30.5,null,23.0,31.0,43.0,10.0,38.0,2.0,null,null,null,23.0,18.0,21.0,null,20.0,16.0,34.5,17.0,42.0,null,35.0,28.0,4.0,74.0,9.0,44.0,null,41.0,21.0,null,24.0,31.0,null,26.0,33.0,47.0,20.0,19.0,null,33.0,22.0,28.0,25.0,39.0,27.0,null,32.0],\"xaxis\":\"x2\",\"yaxis\":\"y2\",\"type\":\"box\"},{\"alignmentgroup\":\"True\",\"bingroup\":\"x\",\"hovertemplate\":\"Survived=1<br>Age=%{x}<br>count=%{y}<extra></extra>\",\"legendgroup\":\"1\",\"marker\":{\"color\":\"#3498db\",\"pattern\":{\"shape\":\"\"},\"line\":{\"color\":\"DarkSlateGrey\",\"width\":2}},\"name\":\"1\",\"offsetgroup\":\"1\",\"orientation\":\"v\",\"showlegend\":true,\"x\":[38.0,26.0,35.0,27.0,14.0,4.0,58.0,55.0,null,null,34.0,15.0,28.0,38.0,null,null,null,null,14.0,3.0,19.0,null,49.0,29.0,null,21.0,5.0,38.0,null,29.0,17.0,32.0,0.83,30.0,29.0,null,17.0,33.0,23.0,23.0,34.0,21.0,null,null,32.5,12.0,24.0,null,29.0,19.0,22.0,24.0,27.0,22.0,16.0,40.0,9.0,null,1.0,1.0,4.0,null,45.0,32.0,19.0,3.0,44.0,58.0,null,18.0,26.0,16.0,40.0,35.0,31.0,27.0,32.0,16.0,38.0,19.0,35.0,5.0,8.0,null,24.0,37.0,29.0,null,30.0,35.0,50.0,3.0,25.0,58.0,35.0,25.0,41.0,null,63.0,35.0,19.0,30.0,42.0,22.0,26.0,19.0,null,50.0,null,null,null,0.92,null,17.0,30.0,24.0,18.0,26.0,24.0,31.0,40.0,30.0,22.0,36.0,36.0,31.0,16.0,null,null,41.0,45.0,2.0,24.0,24.0,40.0,null,3.0,22.0,null,null,60.0,null,null,24.0,25.0,null,22.0,42.0,1.0,35.0,36.0,17.0,36.0,21.0,23.0,24.0,28.0,39.0,3.0,33.0,44.0,34.0,18.0,28.0,19.0,32.0,28.0,null,42.0,14.0,24.0,45.0,28.0,null,4.0,13.0,34.0,5.0,52.0,49.0,29.0,null,50.0,48.0,0.75,33.0,23.0,2.0,63.0,25.0,35.0,9.0,54.0,16.0,33.0,null,26.0,29.0,36.0,54.0,34.0,36.0,30.0,44.0,50.0,2.0,null,7.0,30.0,22.0,36.0,32.0,19.0,null,8.0,17.0,22.0,22.0,48.0,39.0,36.0,32.0,62.0,53.0,36.0,null,34.0,39.0,32.0,25.0,39.0,18.0,60.0,52.0,null,49.0,24.0,35.0,27.0,22.0,40.0,null,24.0,4.0,42.0,20.0,21.0,80.0,32.0,28.0,24.0,null,0.75,48.0,56.0,23.0,18.0,null,50.0,20.0,null,40.0,31.0,18.0,36.0,27.0,15.0,31.0,4.0,null,null,18.0,35.0,45.0,42.0,22.0,null,24.0,48.0,38.0,27.0,6.0,27.0,30.0,null,29.0,35.0,null,21.0,31.0,30.0,4.0,6.0,48.0,0.67,33.0,20.0,36.0,51.0,54.0,5.0,43.0,13.0,17.0,18.0,1.0,49.0,31.0,31.0,11.0,0.42,27.0,33.0,52.0,27.0,27.0,1.0,null,62.0,15.0,0.83,39.0,32.0,null,30.0,null,16.0,18.0,45.0,51.0,24.0,48.0,42.0,27.0,4.0,47.0,28.0,15.0,56.0,25.0,19.0,26.0],\"xaxis\":\"x\",\"yaxis\":\"y\",\"type\":\"histogram\"},{\"alignmentgroup\":\"True\",\"hovertemplate\":\"Survived=1<br>Age=%{x}<extra></extra>\",\"legendgroup\":\"1\",\"marker\":{\"color\":\"#3498db\",\"line\":{\"color\":\"DarkSlateGrey\",\"width\":2}},\"name\":\"1\",\"notched\":true,\"offsetgroup\":\"1\",\"showlegend\":false,\"x\":[38.0,26.0,35.0,27.0,14.0,4.0,58.0,55.0,null,null,34.0,15.0,28.0,38.0,null,null,null,null,14.0,3.0,19.0,null,49.0,29.0,null,21.0,5.0,38.0,null,29.0,17.0,32.0,0.83,30.0,29.0,null,17.0,33.0,23.0,23.0,34.0,21.0,null,null,32.5,12.0,24.0,null,29.0,19.0,22.0,24.0,27.0,22.0,16.0,40.0,9.0,null,1.0,1.0,4.0,null,45.0,32.0,19.0,3.0,44.0,58.0,null,18.0,26.0,16.0,40.0,35.0,31.0,27.0,32.0,16.0,38.0,19.0,35.0,5.0,8.0,null,24.0,37.0,29.0,null,30.0,35.0,50.0,3.0,25.0,58.0,35.0,25.0,41.0,null,63.0,35.0,19.0,30.0,42.0,22.0,26.0,19.0,null,50.0,null,null,null,0.92,null,17.0,30.0,24.0,18.0,26.0,24.0,31.0,40.0,30.0,22.0,36.0,36.0,31.0,16.0,null,null,41.0,45.0,2.0,24.0,24.0,40.0,null,3.0,22.0,null,null,60.0,null,null,24.0,25.0,null,22.0,42.0,1.0,35.0,36.0,17.0,36.0,21.0,23.0,24.0,28.0,39.0,3.0,33.0,44.0,34.0,18.0,28.0,19.0,32.0,28.0,null,42.0,14.0,24.0,45.0,28.0,null,4.0,13.0,34.0,5.0,52.0,49.0,29.0,null,50.0,48.0,0.75,33.0,23.0,2.0,63.0,25.0,35.0,9.0,54.0,16.0,33.0,null,26.0,29.0,36.0,54.0,34.0,36.0,30.0,44.0,50.0,2.0,null,7.0,30.0,22.0,36.0,32.0,19.0,null,8.0,17.0,22.0,22.0,48.0,39.0,36.0,32.0,62.0,53.0,36.0,null,34.0,39.0,32.0,25.0,39.0,18.0,60.0,52.0,null,49.0,24.0,35.0,27.0,22.0,40.0,null,24.0,4.0,42.0,20.0,21.0,80.0,32.0,28.0,24.0,null,0.75,48.0,56.0,23.0,18.0,null,50.0,20.0,null,40.0,31.0,18.0,36.0,27.0,15.0,31.0,4.0,null,null,18.0,35.0,45.0,42.0,22.0,null,24.0,48.0,38.0,27.0,6.0,27.0,30.0,null,29.0,35.0,null,21.0,31.0,30.0,4.0,6.0,48.0,0.67,33.0,20.0,36.0,51.0,54.0,5.0,43.0,13.0,17.0,18.0,1.0,49.0,31.0,31.0,11.0,0.42,27.0,33.0,52.0,27.0,27.0,1.0,null,62.0,15.0,0.83,39.0,32.0,null,30.0,null,16.0,18.0,45.0,51.0,24.0,48.0,42.0,27.0,4.0,47.0,28.0,15.0,56.0,25.0,19.0,26.0],\"xaxis\":\"x2\",\"yaxis\":\"y2\",\"type\":\"box\"}],                        {\"template\":{\"data\":{\"histogram2dcontour\":[{\"type\":\"histogram2dcontour\",\"colorbar\":{\"outlinewidth\":0,\"ticks\":\"\"},\"colorscale\":[[0.0,\"#0d0887\"],[0.1111111111111111,\"#46039f\"],[0.2222222222222222,\"#7201a8\"],[0.3333333333333333,\"#9c179e\"],[0.4444444444444444,\"#bd3786\"],[0.5555555555555556,\"#d8576b\"],[0.6666666666666666,\"#ed7953\"],[0.7777777777777778,\"#fb9f3a\"],[0.8888888888888888,\"#fdca26\"],[1.0,\"#f0f921\"]]}],\"choropleth\":[{\"type\":\"choropleth\",\"colorbar\":{\"outlinewidth\":0,\"ticks\":\"\"}}],\"histogram2d\":[{\"type\":\"histogram2d\",\"colorbar\":{\"outlinewidth\":0,\"ticks\":\"\"},\"colorscale\":[[0.0,\"#0d0887\"],[0.1111111111111111,\"#46039f\"],[0.2222222222222222,\"#7201a8\"],[0.3333333333333333,\"#9c179e\"],[0.4444444444444444,\"#bd3786\"],[0.5555555555555556,\"#d8576b\"],[0.6666666666666666,\"#ed7953\"],[0.7777777777777778,\"#fb9f3a\"],[0.8888888888888888,\"#fdca26\"],[1.0,\"#f0f921\"]]}],\"heatmap\":[{\"type\":\"heatmap\",\"colorbar\":{\"outlinewidth\":0,\"ticks\":\"\"},\"colorscale\":[[0.0,\"#0d0887\"],[0.1111111111111111,\"#46039f\"],[0.2222222222222222,\"#7201a8\"],[0.3333333333333333,\"#9c179e\"],[0.4444444444444444,\"#bd3786\"],[0.5555555555555556,\"#d8576b\"],[0.6666666666666666,\"#ed7953\"],[0.7777777777777778,\"#fb9f3a\"],[0.8888888888888888,\"#fdca26\"],[1.0,\"#f0f921\"]]}],\"heatmapgl\":[{\"type\":\"heatmapgl\",\"colorbar\":{\"outlinewidth\":0,\"ticks\":\"\"},\"colorscale\":[[0.0,\"#0d0887\"],[0.1111111111111111,\"#46039f\"],[0.2222222222222222,\"#7201a8\"],[0.3333333333333333,\"#9c179e\"],[0.4444444444444444,\"#bd3786\"],[0.5555555555555556,\"#d8576b\"],[0.6666666666666666,\"#ed7953\"],[0.7777777777777778,\"#fb9f3a\"],[0.8888888888888888,\"#fdca26\"],[1.0,\"#f0f921\"]]}],\"contourcarpet\":[{\"type\":\"contourcarpet\",\"colorbar\":{\"outlinewidth\":0,\"ticks\":\"\"}}],\"contour\":[{\"type\":\"contour\",\"colorbar\":{\"outlinewidth\":0,\"ticks\":\"\"},\"colorscale\":[[0.0,\"#0d0887\"],[0.1111111111111111,\"#46039f\"],[0.2222222222222222,\"#7201a8\"],[0.3333333333333333,\"#9c179e\"],[0.4444444444444444,\"#bd3786\"],[0.5555555555555556,\"#d8576b\"],[0.6666666666666666,\"#ed7953\"],[0.7777777777777778,\"#fb9f3a\"],[0.8888888888888888,\"#fdca26\"],[1.0,\"#f0f921\"]]}],\"surface\":[{\"type\":\"surface\",\"colorbar\":{\"outlinewidth\":0,\"ticks\":\"\"},\"colorscale\":[[0.0,\"#0d0887\"],[0.1111111111111111,\"#46039f\"],[0.2222222222222222,\"#7201a8\"],[0.3333333333333333,\"#9c179e\"],[0.4444444444444444,\"#bd3786\"],[0.5555555555555556,\"#d8576b\"],[0.6666666666666666,\"#ed7953\"],[0.7777777777777778,\"#fb9f3a\"],[0.8888888888888888,\"#fdca26\"],[1.0,\"#f0f921\"]]}],\"mesh3d\":[{\"type\":\"mesh3d\",\"colorbar\":{\"outlinewidth\":0,\"ticks\":\"\"}}],\"scatter\":[{\"fillpattern\":{\"fillmode\":\"overlay\",\"size\":10,\"solidity\":0.2},\"type\":\"scatter\"}],\"parcoords\":[{\"type\":\"parcoords\",\"line\":{\"colorbar\":{\"outlinewidth\":0,\"ticks\":\"\"}}}],\"scatterpolargl\":[{\"type\":\"scatterpolargl\",\"marker\":{\"colorbar\":{\"outlinewidth\":0,\"ticks\":\"\"}}}],\"bar\":[{\"error_x\":{\"color\":\"#2a3f5f\"},\"error_y\":{\"color\":\"#2a3f5f\"},\"marker\":{\"line\":{\"color\":\"#E5ECF6\",\"width\":0.5},\"pattern\":{\"fillmode\":\"overlay\",\"size\":10,\"solidity\":0.2}},\"type\":\"bar\"}],\"scattergeo\":[{\"type\":\"scattergeo\",\"marker\":{\"colorbar\":{\"outlinewidth\":0,\"ticks\":\"\"}}}],\"scatterpolar\":[{\"type\":\"scatterpolar\",\"marker\":{\"colorbar\":{\"outlinewidth\":0,\"ticks\":\"\"}}}],\"histogram\":[{\"marker\":{\"pattern\":{\"fillmode\":\"overlay\",\"size\":10,\"solidity\":0.2}},\"type\":\"histogram\"}],\"scattergl\":[{\"type\":\"scattergl\",\"marker\":{\"colorbar\":{\"outlinewidth\":0,\"ticks\":\"\"}}}],\"scatter3d\":[{\"type\":\"scatter3d\",\"line\":{\"colorbar\":{\"outlinewidth\":0,\"ticks\":\"\"}},\"marker\":{\"colorbar\":{\"outlinewidth\":0,\"ticks\":\"\"}}}],\"scattermapbox\":[{\"type\":\"scattermapbox\",\"marker\":{\"colorbar\":{\"outlinewidth\":0,\"ticks\":\"\"}}}],\"scatterternary\":[{\"type\":\"scatterternary\",\"marker\":{\"colorbar\":{\"outlinewidth\":0,\"ticks\":\"\"}}}],\"scattercarpet\":[{\"type\":\"scattercarpet\",\"marker\":{\"colorbar\":{\"outlinewidth\":0,\"ticks\":\"\"}}}],\"carpet\":[{\"aaxis\":{\"endlinecolor\":\"#2a3f5f\",\"gridcolor\":\"white\",\"linecolor\":\"white\",\"minorgridcolor\":\"white\",\"startlinecolor\":\"#2a3f5f\"},\"baxis\":{\"endlinecolor\":\"#2a3f5f\",\"gridcolor\":\"white\",\"linecolor\":\"white\",\"minorgridcolor\":\"white\",\"startlinecolor\":\"#2a3f5f\"},\"type\":\"carpet\"}],\"table\":[{\"cells\":{\"fill\":{\"color\":\"#EBF0F8\"},\"line\":{\"color\":\"white\"}},\"header\":{\"fill\":{\"color\":\"#C8D4E3\"},\"line\":{\"color\":\"white\"}},\"type\":\"table\"}],\"barpolar\":[{\"marker\":{\"line\":{\"color\":\"#E5ECF6\",\"width\":0.5},\"pattern\":{\"fillmode\":\"overlay\",\"size\":10,\"solidity\":0.2}},\"type\":\"barpolar\"}],\"pie\":[{\"automargin\":true,\"type\":\"pie\"}]},\"layout\":{\"autotypenumbers\":\"strict\",\"colorway\":[\"#636efa\",\"#EF553B\",\"#00cc96\",\"#ab63fa\",\"#FFA15A\",\"#19d3f3\",\"#FF6692\",\"#B6E880\",\"#FF97FF\",\"#FECB52\"],\"font\":{\"color\":\"#2a3f5f\"},\"hovermode\":\"closest\",\"hoverlabel\":{\"align\":\"left\"},\"paper_bgcolor\":\"white\",\"plot_bgcolor\":\"#E5ECF6\",\"polar\":{\"bgcolor\":\"#E5ECF6\",\"angularaxis\":{\"gridcolor\":\"white\",\"linecolor\":\"white\",\"ticks\":\"\"},\"radialaxis\":{\"gridcolor\":\"white\",\"linecolor\":\"white\",\"ticks\":\"\"}},\"ternary\":{\"bgcolor\":\"#E5ECF6\",\"aaxis\":{\"gridcolor\":\"white\",\"linecolor\":\"white\",\"ticks\":\"\"},\"baxis\":{\"gridcolor\":\"white\",\"linecolor\":\"white\",\"ticks\":\"\"},\"caxis\":{\"gridcolor\":\"white\",\"linecolor\":\"white\",\"ticks\":\"\"}},\"coloraxis\":{\"colorbar\":{\"outlinewidth\":0,\"ticks\":\"\"}},\"colorscale\":{\"sequential\":[[0.0,\"#0d0887\"],[0.1111111111111111,\"#46039f\"],[0.2222222222222222,\"#7201a8\"],[0.3333333333333333,\"#9c179e\"],[0.4444444444444444,\"#bd3786\"],[0.5555555555555556,\"#d8576b\"],[0.6666666666666666,\"#ed7953\"],[0.7777777777777778,\"#fb9f3a\"],[0.8888888888888888,\"#fdca26\"],[1.0,\"#f0f921\"]],\"sequentialminus\":[[0.0,\"#0d0887\"],[0.1111111111111111,\"#46039f\"],[0.2222222222222222,\"#7201a8\"],[0.3333333333333333,\"#9c179e\"],[0.4444444444444444,\"#bd3786\"],[0.5555555555555556,\"#d8576b\"],[0.6666666666666666,\"#ed7953\"],[0.7777777777777778,\"#fb9f3a\"],[0.8888888888888888,\"#fdca26\"],[1.0,\"#f0f921\"]],\"diverging\":[[0,\"#8e0152\"],[0.1,\"#c51b7d\"],[0.2,\"#de77ae\"],[0.3,\"#f1b6da\"],[0.4,\"#fde0ef\"],[0.5,\"#f7f7f7\"],[0.6,\"#e6f5d0\"],[0.7,\"#b8e186\"],[0.8,\"#7fbc41\"],[0.9,\"#4d9221\"],[1,\"#276419\"]]},\"xaxis\":{\"gridcolor\":\"white\",\"linecolor\":\"white\",\"ticks\":\"\",\"title\":{\"standoff\":15},\"zerolinecolor\":\"white\",\"automargin\":true,\"zerolinewidth\":2},\"yaxis\":{\"gridcolor\":\"white\",\"linecolor\":\"white\",\"ticks\":\"\",\"title\":{\"standoff\":15},\"zerolinecolor\":\"white\",\"automargin\":true,\"zerolinewidth\":2},\"scene\":{\"xaxis\":{\"backgroundcolor\":\"#E5ECF6\",\"gridcolor\":\"white\",\"linecolor\":\"white\",\"showbackground\":true,\"ticks\":\"\",\"zerolinecolor\":\"white\",\"gridwidth\":2},\"yaxis\":{\"backgroundcolor\":\"#E5ECF6\",\"gridcolor\":\"white\",\"linecolor\":\"white\",\"showbackground\":true,\"ticks\":\"\",\"zerolinecolor\":\"white\",\"gridwidth\":2},\"zaxis\":{\"backgroundcolor\":\"#E5ECF6\",\"gridcolor\":\"white\",\"linecolor\":\"white\",\"showbackground\":true,\"ticks\":\"\",\"zerolinecolor\":\"white\",\"gridwidth\":2}},\"shapedefaults\":{\"line\":{\"color\":\"#2a3f5f\"}},\"annotationdefaults\":{\"arrowcolor\":\"#2a3f5f\",\"arrowhead\":0,\"arrowwidth\":1},\"geo\":{\"bgcolor\":\"white\",\"landcolor\":\"#E5ECF6\",\"subunitcolor\":\"white\",\"showland\":true,\"showlakes\":true,\"lakecolor\":\"white\"},\"title\":{\"x\":0.05},\"mapbox\":{\"style\":\"light\"}}},\"xaxis\":{\"anchor\":\"y\",\"domain\":[0.0,1.0],\"title\":{\"text\":\"Age\"},\"showgrid\":false,\"zeroline\":false},\"yaxis\":{\"anchor\":\"x\",\"domain\":[0.0,0.7326],\"title\":{\"text\":\"count\"},\"zeroline\":false,\"gridcolor\":\"white\"},\"xaxis2\":{\"anchor\":\"y2\",\"domain\":[0.0,1.0],\"matches\":\"x\",\"showticklabels\":false,\"showgrid\":true},\"yaxis2\":{\"anchor\":\"x2\",\"domain\":[0.7426,1.0],\"matches\":\"y2\",\"showticklabels\":false,\"showline\":false,\"ticks\":\"\",\"showgrid\":false},\"legend\":{\"title\":{\"text\":\"Survived\"},\"tracegroupgap\":0},\"title\":{\"text\":\"Survival by Age\"},\"barmode\":\"group\",\"paper_bgcolor\":\"rgb(233,233,233)\",\"plot_bgcolor\":\"rgb(233,233,233)\"},                        {\"responsive\": true}                    ).then(function(){\n",
       "                            \n",
       "var gd = document.getElementById('97899afb-00dd-4167-964f-4bb56869d900');\n",
       "var x = new MutationObserver(function (mutations, observer) {{\n",
       "        var display = window.getComputedStyle(gd).display;\n",
       "        if (!display || display === 'none') {{\n",
       "            console.log([gd, 'removed!']);\n",
       "            Plotly.purge(gd);\n",
       "            observer.disconnect();\n",
       "        }}\n",
       "}});\n",
       "\n",
       "// Listen for the removal of the full notebook cells\n",
       "var notebookContainer = gd.closest('#notebook-container');\n",
       "if (notebookContainer) {{\n",
       "    x.observe(notebookContainer, {childList: true});\n",
       "}}\n",
       "\n",
       "// Listen for the clearing of the current output cell\n",
       "var outputEl = gd.closest('.output');\n",
       "if (outputEl) {{\n",
       "    x.observe(outputEl, {childList: true});\n",
       "}}\n",
       "\n",
       "                        })                };                });            </script>        </div>"
      ]
     },
     "metadata": {},
     "output_type": "display_data"
    }
   ],
   "source": [
    "fig = px.histogram(df_train, x='Age', color='Survived', title='Survival by Age',\n",
    "                   marginal='box', barmode='group', color_discrete_sequence=['#ff7f0e', '#3498db'],\n",
    "                   )\n",
    "\n",
    "fig.update_traces(marker=dict(line=dict(width=2, color='DarkSlateGrey')))\n",
    "\n",
    "# format the layout\n",
    "fig.update_layout(\n",
    "    xaxis=dict(showgrid=False, zeroline=False),\n",
    "    yaxis=dict(zeroline=False, gridcolor='white'),\n",
    "    paper_bgcolor='rgb(233,233,233)',\n",
    "    plot_bgcolor='rgb(233,233,233)',\n",
    ")\n",
    "\n",
    "fig.show()"
   ]
  },
  {
   "cell_type": "markdown",
   "id": "eff41805",
   "metadata": {},
   "source": [
    "Sobreviven más personas jóvenes, pero tampoco hay una gran diferencia."
   ]
  },
  {
   "cell_type": "code",
   "execution_count": 122,
   "id": "eecaf559",
   "metadata": {
    "scrolled": true
   },
   "outputs": [
    {
     "name": "stdout",
     "output_type": "stream",
     "text": [
      "Percentage of Pclass = 1 who survived: 62.96296296296296\n",
      "Percentage of Pclass = 2 who survived: 47.28260869565217\n",
      "Percentage of Pclass = 3 who survived: 24.236252545824847\n"
     ]
    },
    {
     "data": {
      "image/png": "[encoded data removed]",
      "text/plain": [
       "<Figure size 640x480 with 1 Axes>"
      ]
     },
     "metadata": {},
     "output_type": "display_data"
    }
   ],
   "source": [
    "sns.barplot(x=\"Pclass\", y=\"Survived\", data=df_train)\n",
    "\n",
    "print(\"% de Pclass = 1 supervivientes:\", df_train[\"Survived\"][df_train[\"Pclass\"] == 1].value_counts(normalize = True)[1]*100)\n",
    "\n",
    "print(\"% de Pclass = 2 supervivientes:\", df_train[\"Survived\"][df_train[\"Pclass\"] == 2].value_counts(normalize = True)[1]*100)\n",
    "\n",
    "print(\"% de Pclass = 3 supervivientes:\", df_train[\"Survived\"][df_train[\"Pclass\"] == 3].value_counts(normalize = True)[1]*100)"
   ]
  },
  {
   "cell_type": "markdown",
   "id": "b70e1d21",
   "metadata": {},
   "source": [
    "Pclass: Sobreviven más los de 1º y 2º clase que los de 3º (lógico)"
   ]
  },
  {
   "cell_type": "code",
   "execution_count": 123,
   "id": "c55cf02a",
   "metadata": {
    "scrolled": true
   },
   "outputs": [
    {
     "name": "stdout",
     "output_type": "stream",
     "text": [
      "Percentage of Embarked = S who survived: 33.69565217391305\n",
      "Percentage of Embarked = C who survived: 55.35714285714286\n",
      "Percentage of Embarked = Q who survived: 38.961038961038966\n"
     ]
    },
    {
     "data": {
      "image/png": "[encoded data removed]",
      "text/plain": [
       "<Figure size 640x480 with 1 Axes>"
      ]
     },
     "metadata": {},
     "output_type": "display_data"
    }
   ],
   "source": [
    "sns.barplot(x=\"Embarked\", y=\"Survived\", data=df_train)\n",
    "\n",
    "print(\"% de Embarked = S supervivientes:\", df_train[\"Survived\"][df_train[\"Embarked\"] == 'S'].value_counts(normalize = True)[1]*100)\n",
    "\n",
    "print(\"% de Embarked = C supervivientes:\", df_train[\"Survived\"][df_train[\"Embarked\"] == 'C'].value_counts(normalize = True)[1]*100)\n",
    "\n",
    "print(\"% de Embarked = Q supervivientes:\", df_train[\"Survived\"][df_train[\"Embarked\"] == 'Q'].value_counts(normalize = True)[1]*100)"
   ]
  },
  {
   "cell_type": "markdown",
   "id": "9b16ee38",
   "metadata": {},
   "source": [
    "Embarked: Sobreviven más los que embarcaron desde el puerto C."
   ]
  },
  {
   "cell_type": "code",
   "execution_count": 149,
   "id": "5a813992",
   "metadata": {},
   "outputs": [
    {
     "data": {
      "image/png": "[encoded data removed]",
      "text/plain": [
       "<Figure size 640x480 with 1 Axes>"
      ]
     },
     "metadata": {},
     "output_type": "display_data"
    }
   ],
   "source": [
    "sns.barplot(data=df_train, x='FamSize', y='Survived', palette='Set2')\n",
    "bplt.title('Ratio Supervivencia FamSize')\n",
    "bplt.show()"
   ]
  },
  {
   "cell_type": "markdown",
   "id": "a047d4a6",
   "metadata": {},
   "source": [
    "FamSize: Las familias más pequeñas (1 a 4) eran más propensas a sobrevivir"
   ]
  },
  {
   "cell_type": "markdown",
   "id": "251be884",
   "metadata": {},
   "source": [
    "### 3. Preprocesamiento de Datos ⚒️"
   ]
  },
  {
   "cell_type": "code",
   "execution_count": 125,
   "id": "62935e0a",
   "metadata": {},
   "outputs": [],
   "source": [
    "df_train['Age'] = df_train.groupby(['Sex', 'Pclass'])['Age'].transform(lambda x: x.fillna(x.median()))\n",
    "\n",
    "\n",
    "imputer = SimpleImputer(missing_values=np.nan, strategy='most_frequent')\n",
    "\n",
    "imputed_column = imputer.fit_transform(df_train['Embarked'].values.reshape(-1, 1))\n",
    "\n",
    "imputed_column = imputed_column.flatten()\n",
    "\n",
    "df_train['Embarked'] = imputed_column"
   ]
  },
  {
   "cell_type": "markdown",
   "id": "139dd414",
   "metadata": {},
   "source": [
    "Relleno los NaNs de Age basándome en la mediana de grupos de pasajeros definidos por 'Sex' y 'Pclass'.\n",
    "\n",
    "Relleno los NaNs de Embarked basándome en la moda."
   ]
  },
  {
   "cell_type": "code",
   "execution_count": 126,
   "id": "5b9beb11",
   "metadata": {},
   "outputs": [
    {
     "data": {
      "text/html": [
       "<div>\n",
       "<style scoped>\n",
       "    .dataframe tbody tr th:only-of-type {\n",
       "        vertical-align: middle;\n",
       "    }\n",
       "\n",
       "    .dataframe tbody tr th {\n",
       "        vertical-align: top;\n",
       "    }\n",
       "\n",
       "    .dataframe thead th {\n",
       "        text-align: right;\n",
       "    }\n",
       "</style>\n",
       "<table border=\"1\" class=\"dataframe\">\n",
       "  <thead>\n",
       "    <tr style=\"text-align: right;\">\n",
       "      <th></th>\n",
       "      <th>Survived</th>\n",
       "      <th>Pclass</th>\n",
       "      <th>Sex</th>\n",
       "      <th>Age</th>\n",
       "      <th>Embarked</th>\n",
       "      <th>FamSize</th>\n",
       "    </tr>\n",
       "  </thead>\n",
       "  <tbody>\n",
       "    <tr>\n",
       "      <th>0</th>\n",
       "      <td>0</td>\n",
       "      <td>0.827</td>\n",
       "      <td>male</td>\n",
       "      <td>-0.535</td>\n",
       "      <td>S</td>\n",
       "      <td>0.059</td>\n",
       "    </tr>\n",
       "    <tr>\n",
       "      <th>1</th>\n",
       "      <td>1</td>\n",
       "      <td>-1.566</td>\n",
       "      <td>female</td>\n",
       "      <td>0.668</td>\n",
       "      <td>C</td>\n",
       "      <td>0.059</td>\n",
       "    </tr>\n",
       "    <tr>\n",
       "      <th>2</th>\n",
       "      <td>1</td>\n",
       "      <td>0.827</td>\n",
       "      <td>female</td>\n",
       "      <td>-0.234</td>\n",
       "      <td>S</td>\n",
       "      <td>-0.561</td>\n",
       "    </tr>\n",
       "    <tr>\n",
       "      <th>3</th>\n",
       "      <td>1</td>\n",
       "      <td>-1.566</td>\n",
       "      <td>female</td>\n",
       "      <td>0.443</td>\n",
       "      <td>S</td>\n",
       "      <td>0.059</td>\n",
       "    </tr>\n",
       "    <tr>\n",
       "      <th>4</th>\n",
       "      <td>0</td>\n",
       "      <td>0.827</td>\n",
       "      <td>male</td>\n",
       "      <td>0.443</td>\n",
       "      <td>S</td>\n",
       "      <td>-0.561</td>\n",
       "    </tr>\n",
       "    <tr>\n",
       "      <th>...</th>\n",
       "      <td>...</td>\n",
       "      <td>...</td>\n",
       "      <td>...</td>\n",
       "      <td>...</td>\n",
       "      <td>...</td>\n",
       "      <td>...</td>\n",
       "    </tr>\n",
       "    <tr>\n",
       "      <th>886</th>\n",
       "      <td>0</td>\n",
       "      <td>-0.369</td>\n",
       "      <td>male</td>\n",
       "      <td>-0.159</td>\n",
       "      <td>S</td>\n",
       "      <td>-0.561</td>\n",
       "    </tr>\n",
       "    <tr>\n",
       "      <th>887</th>\n",
       "      <td>1</td>\n",
       "      <td>-1.566</td>\n",
       "      <td>female</td>\n",
       "      <td>-0.761</td>\n",
       "      <td>S</td>\n",
       "      <td>-0.561</td>\n",
       "    </tr>\n",
       "    <tr>\n",
       "      <th>888</th>\n",
       "      <td>0</td>\n",
       "      <td>0.827</td>\n",
       "      <td>female</td>\n",
       "      <td>-0.572</td>\n",
       "      <td>S</td>\n",
       "      <td>1.299</td>\n",
       "    </tr>\n",
       "    <tr>\n",
       "      <th>889</th>\n",
       "      <td>1</td>\n",
       "      <td>-1.566</td>\n",
       "      <td>male</td>\n",
       "      <td>-0.234</td>\n",
       "      <td>C</td>\n",
       "      <td>-0.561</td>\n",
       "    </tr>\n",
       "    <tr>\n",
       "      <th>890</th>\n",
       "      <td>0</td>\n",
       "      <td>0.827</td>\n",
       "      <td>male</td>\n",
       "      <td>0.217</td>\n",
       "      <td>Q</td>\n",
       "      <td>-0.561</td>\n",
       "    </tr>\n",
       "  </tbody>\n",
       "</table>\n",
       "<p>891 rows × 6 columns</p>\n",
       "</div>"
      ],
      "text/plain": [
       "     Survived  Pclass     Sex    Age Embarked  FamSize\n",
       "0           0   0.827    male -0.535        S    0.059\n",
       "1           1  -1.566  female  0.668        C    0.059\n",
       "2           1   0.827  female -0.234        S   -0.561\n",
       "3           1  -1.566  female  0.443        S    0.059\n",
       "4           0   0.827    male  0.443        S   -0.561\n",
       "..        ...     ...     ...    ...      ...      ...\n",
       "886         0  -0.369    male -0.159        S   -0.561\n",
       "887         1  -1.566  female -0.761        S   -0.561\n",
       "888         0   0.827  female -0.572        S    1.299\n",
       "889         1  -1.566    male -0.234        C   -0.561\n",
       "890         0   0.827    male  0.217        Q   -0.561\n",
       "\n",
       "[891 rows x 6 columns]"
      ]
     },
     "execution_count": 126,
     "metadata": {},
     "output_type": "execute_result"
    }
   ],
   "source": [
    "from sklearn.preprocessing import StandardScaler\n",
    "\n",
    "var_numericas = ['Pclass', 'Age', 'FamSize']\n",
    "scaler = StandardScaler()\n",
    "\n",
    "scaler.fit(df_train[var_numericas])\n",
    "\n",
    "df_trainSC = scaler.transform(df_train[var_numericas])\n",
    "df_train[var_numericas] = df_trainSC\n",
    "df_train"
   ]
  },
  {
   "cell_type": "code",
   "execution_count": 127,
   "id": "612d77fc",
   "metadata": {},
   "outputs": [
    {
     "name": "stdout",
     "output_type": "stream",
     "text": [
      "PassengerId 0.0\n",
      "Survived 0.0\n",
      "Pclass 0.0\n",
      "Name 0.0\n",
      "Sex 0.0\n",
      "Age 0.0\n",
      "SibSp 0.0\n",
      "Parch 0.0\n",
      "Ticket 0.0\n",
      "Fare 0.0\n",
      "Cabin 0.7710437710437711\n",
      "Embarked 0.002244668911335578\n"
     ]
    }
   ],
   "source": [
    "percent_nan_fila = df.isna().mean(axis = 0)\n",
    "def print_percentage_nan(percentage_nan):\n",
    "  #printeja l'informacio de % de nans de cada columna\n",
    "  for col,percentage in percentage_nan.to_dict().items():\n",
    "    print (col,percentage)\n",
    "print_percentage_nan(percent_nan_fila)"
   ]
  },
  {
   "cell_type": "markdown",
   "id": "c7d3c503",
   "metadata": {},
   "source": [
    "Teniu dades categoriques? Quina seria la codificació amb més sentit?"
   ]
  },
  {
   "cell_type": "code",
   "execution_count": 128,
   "id": "109d0df9",
   "metadata": {},
   "outputs": [
    {
     "name": "stdout",
     "output_type": "stream",
     "text": [
      "9 total features after one-hot encoding.\n"
     ]
    },
    {
     "data": {
      "text/html": [
       "<div>\n",
       "<style scoped>\n",
       "    .dataframe tbody tr th:only-of-type {\n",
       "        vertical-align: middle;\n",
       "    }\n",
       "\n",
       "    .dataframe tbody tr th {\n",
       "        vertical-align: top;\n",
       "    }\n",
       "\n",
       "    .dataframe thead th {\n",
       "        text-align: right;\n",
       "    }\n",
       "</style>\n",
       "<table border=\"1\" class=\"dataframe\">\n",
       "  <thead>\n",
       "    <tr style=\"text-align: right;\">\n",
       "      <th></th>\n",
       "      <th>Survived</th>\n",
       "      <th>Pclass</th>\n",
       "      <th>Age</th>\n",
       "      <th>FamSize</th>\n",
       "      <th>Sex_female</th>\n",
       "      <th>Sex_male</th>\n",
       "      <th>Embarked_C</th>\n",
       "      <th>Embarked_Q</th>\n",
       "      <th>Embarked_S</th>\n",
       "    </tr>\n",
       "  </thead>\n",
       "  <tbody>\n",
       "    <tr>\n",
       "      <th>0</th>\n",
       "      <td>0</td>\n",
       "      <td>0.827</td>\n",
       "      <td>-0.535</td>\n",
       "      <td>0.059</td>\n",
       "      <td>0</td>\n",
       "      <td>1</td>\n",
       "      <td>0</td>\n",
       "      <td>0</td>\n",
       "      <td>1</td>\n",
       "    </tr>\n",
       "    <tr>\n",
       "      <th>1</th>\n",
       "      <td>1</td>\n",
       "      <td>-1.566</td>\n",
       "      <td>0.668</td>\n",
       "      <td>0.059</td>\n",
       "      <td>1</td>\n",
       "      <td>0</td>\n",
       "      <td>1</td>\n",
       "      <td>0</td>\n",
       "      <td>0</td>\n",
       "    </tr>\n",
       "    <tr>\n",
       "      <th>2</th>\n",
       "      <td>1</td>\n",
       "      <td>0.827</td>\n",
       "      <td>-0.234</td>\n",
       "      <td>-0.561</td>\n",
       "      <td>1</td>\n",
       "      <td>0</td>\n",
       "      <td>0</td>\n",
       "      <td>0</td>\n",
       "      <td>1</td>\n",
       "    </tr>\n",
       "    <tr>\n",
       "      <th>3</th>\n",
       "      <td>1</td>\n",
       "      <td>-1.566</td>\n",
       "      <td>0.443</td>\n",
       "      <td>0.059</td>\n",
       "      <td>1</td>\n",
       "      <td>0</td>\n",
       "      <td>0</td>\n",
       "      <td>0</td>\n",
       "      <td>1</td>\n",
       "    </tr>\n",
       "    <tr>\n",
       "      <th>4</th>\n",
       "      <td>0</td>\n",
       "      <td>0.827</td>\n",
       "      <td>0.443</td>\n",
       "      <td>-0.561</td>\n",
       "      <td>0</td>\n",
       "      <td>1</td>\n",
       "      <td>0</td>\n",
       "      <td>0</td>\n",
       "      <td>1</td>\n",
       "    </tr>\n",
       "  </tbody>\n",
       "</table>\n",
       "</div>"
      ],
      "text/plain": [
       "   Survived  Pclass    Age  FamSize  Sex_female  Sex_male  Embarked_C  \\\n",
       "0         0   0.827 -0.535    0.059           0         1           0   \n",
       "1         1  -1.566  0.668    0.059           1         0           1   \n",
       "2         1   0.827 -0.234   -0.561           1         0           0   \n",
       "3         1  -1.566  0.443    0.059           1         0           0   \n",
       "4         0   0.827  0.443   -0.561           0         1           0   \n",
       "\n",
       "   Embarked_Q  Embarked_S  \n",
       "0           0           1  \n",
       "1           0           0  \n",
       "2           0           1  \n",
       "3           0           1  \n",
       "4           0           1  "
      ]
     },
     "execution_count": 128,
     "metadata": {},
     "output_type": "execute_result"
    }
   ],
   "source": [
    "df_train = pd.get_dummies(df_train, columns=['Sex', 'Embarked'])\n",
    "\n",
    "encoded = list(df_train.columns)\n",
    "print(\"{} columnas despues de hacer one-hot encoding.\".format(len(encoded)))\n",
    "df_train.head()"
   ]
  },
  {
   "cell_type": "markdown",
   "id": "5c8a770e",
   "metadata": {},
   "source": [
    "Si, concretamente Survived, Sex, Embarked, Pclass"
   ]
  },
  {
   "cell_type": "code",
   "execution_count": null,
   "id": "edda5ae6",
   "metadata": {},
   "outputs": [],
   "source": [
    "X_train = df_train.drop(['Survived'], axis=1)\n",
    "y_train = df_train['Survived']"
   ]
  },
  {
   "cell_type": "code",
   "execution_count": 137,
   "id": "0821f3df",
   "metadata": {},
   "outputs": [
    {
     "data": {
      "text/plain": [
       "<AxesSubplot:>"
      ]
     },
     "execution_count": 137,
     "metadata": {},
     "output_type": "execute_result"
    },
    {
     "data": {
      "image/png": "[encoded data removed]",
      "text/plain": [
       "<Figure size 640x480 with 2 Axes>"
      ]
     },
     "metadata": {},
     "output_type": "display_data"
    }
   ],
   "source": [
    "\n",
    "sns.heatmap(df_train.corr(),annot = True, fmt = \".2f\")\n"
   ]
  },
  {
   "cell_type": "code",
   "execution_count": 141,
   "id": "8b2bf135",
   "metadata": {},
   "outputs": [
    {
     "data": {
      "image/png": "[encoded data removed]",
      "text/plain": [
       "<Figure size 640x480 with 1 Axes>"
      ]
     },
     "metadata": {},
     "output_type": "display_data"
    }
   ],
   "source": [
    "\n",
    "\n",
    "df_train.corr()['Survived'].sort_values(ascending = False).drop(['Survived']).plot(kind = 'bar', color = 'c')\n",
    "\n",
    "bplt.xlabel('Columna', fontsize = 20)\n",
    "\n",
    "bplt.ylabel('Objetivo', fontsize = 20)\n",
    "\n",
    "bplt.title('Correlacion', fontsize = 20)\n",
    "\n",
    "bplt.show()"
   ]
  },
  {
   "cell_type": "markdown",
   "id": "5d54fae1",
   "metadata": {},
   "source": [
    "## 4. Metric selection"
   ]
  },
  {
   "cell_type": "markdown",
   "id": "f7fdc84b",
   "metadata": {},
   "source": [
    "Para nuestro problema escogeremos **f1-score** ya que  tiene en cuenta tanto la precisión como el recall, lo que convierte esta métrica en la + equilibrada para evaluar el rendimiento de nuestro modelo (tanto los verdaderos positivos como los verdaderos negativos son importantes)"
   ]
  },
  {
   "cell_type": "code",
   "execution_count": 145,
   "id": "5a662618",
   "metadata": {},
   "outputs": [],
   "source": [
    "def plot_f1_scores(classifiers, X_train, X_test, y_train, y_test):\n",
    "    log_cols = [\"Classifier\", \"F1-Score\"]\n",
    "    log = pd.DataFrame(columns=log_cols)\n",
    "    f1_dict = {}\n",
    "\n",
    "    for clf in classifiers:\n",
    "        name = clf.__class__.__name__\n",
    "        clf.fit(X_train, y_train)\n",
    "        y_pred = clf.predict(X_test)\n",
    "        f1 = f1_score(y_test, y_pred)\n",
    "        if name in f1_dict:\n",
    "            f1_dict[name] += f1\n",
    "        else:\n",
    "            f1_dict[name] = f1\n",
    "\n",
    "    for clf in f1_dict:\n",
    "        f1_dict[clf] = f1_dict[clf]\n",
    "        log_entry = pd.DataFrame([[clf, f1_dict[clf]]], columns=log_cols)\n",
    "        log = log.append(log_entry)\n",
    "\n",
    "    plt.xlabel('F1-Score')\n",
    "    plt.title('Clasificador F1-Score')\n",
    "\n",
    "    sns.set_color_codes(\"muted\")\n",
    "    sns.barplot(x='F1-Score', y='Classifier', data=log.sort_values(by='F1-Score'), color=\"b\")"
   ]
  },
  {
   "cell_type": "code",
   "execution_count": 148,
   "id": "59392294",
   "metadata": {},
   "outputs": [],
   "source": [
    "classifiers = [\n",
    "    (\"Logistic Regression\", LogisticRegression(random_state=42, max_iter= 1500, n_jobs=-1)),\n",
    "    (\"KNN\", KNeighborsClassifier(n_neighbors=5, n_jobs=-1)),\n",
    "    (\"Gaussian Naive Bayes\", GaussianNB()),\n",
    "    (\"Decision Tree\", DecisionTreeClassifier(random_state=42)),\n",
    "    (\"Random Forest\", RandomForestClassifier(random_state=42, n_jobs =-1)),\n",
    "    (\"AdaBoost\", AdaBoostClassifier(random_state=42)),\n",
    "    (\"Gradient Boosting\", GradientBoostingClassifier(random_state=42)),\n",
    "]"
   ]
  },
  {
   "cell_type": "code",
   "execution_count": null,
   "id": "9fff1816",
   "metadata": {},
   "outputs": [],
   "source": []
  },
  {
   "cell_type": "markdown",
   "id": "61efa125",
   "metadata": {},
   "source": [
    "Abans de comencar a entrenar models, genereu una suite de funcions per poder analitzar graficament com esta anant el vostre model. Mostreu la Precisió-Recall Curve i la ROC Curve. Quina és més rellevant pel vostre dataset? Expliqueu amb les vostres paraules, la diferencia entre una i altre Pista"
   ]
  },
  {
   "cell_type": "markdown",
   "id": "4cfb1d87",
   "metadata": {},
   "source": [
    "Què mostra classification_report? Quina métrica us fixareu per tal de optimitzar-ne la classificació pel vostre cas?"
   ]
  },
  {
   "cell_type": "markdown",
   "id": "780cfee6",
   "metadata": {},
   "source": [
    "## Model Selection amb validacio creuada"
   ]
  },
  {
   "cell_type": "markdown",
   "id": "05e094cc",
   "metadata": {},
   "source": [
    "Quins models heu considerat? Perque els heu seleccionat?"
   ]
  },
  {
   "cell_type": "markdown",
   "id": "4249c2f5",
   "metadata": {},
   "source": [
    "Fent servir validacio creuada, escolliu el millor model (agafant els hiperparamtres per defecte). Recordeu fer servir la metrica utilitzada en l'apartat anterior. Perque es important fer servir validacio creuada? Heu de fer servir algun tipus de validacio creuada en especial?"
   ]
  },
  {
   "cell_type": "markdown",
   "id": "cbc14e21",
   "metadata": {},
   "source": [
    "Seleccioneu una serie d'hyperparametres a provar per cadascun dels models i realitzeu una cerca d'hyperparametres. Hi ha algun model que creieu que podeu descartar de primeres? Perque?"
   ]
  },
  {
   "cell_type": "markdown",
   "id": "27c1adf2",
   "metadata": {},
   "source": [
    "Mostreu els resultats en una taula on es mostri el model, els experiments realitzats i els resultats obtinguts (tant en train com en test). Podeu mostrar tambe el temps d'entrenament de cada model."
   ]
  },
  {
   "cell_type": "markdown",
   "id": "7703998f",
   "metadata": {},
   "source": [
    "Quin tipus de K-fold heu escollit en la seleccio de models? I en la seleccio de models amb hyperparametres? Com afecta al resultat modificar el numero de k (numero de folds) al resultat?"
   ]
  },
  {
   "cell_type": "markdown",
   "id": "a4b5fedd",
   "metadata": {},
   "source": [
    "Quines formes de buscar el millor parametre heu trobat? Són costoses computacionalment parlant? documentació Quina heu seleccionat?"
   ]
  },
  {
   "cell_type": "markdown",
   "id": "43bd5f25",
   "metadata": {},
   "source": [
    "Si disposem de recursos limitats (per exemple, un PC durant 1 hora) quin dels métodes creieu que obtindrà millor resultat final?"
   ]
  },
  {
   "cell_type": "markdown",
   "id": "ca0e538a",
   "metadata": {},
   "source": [
    "Existeixen altres mètodes de búsqueda més eficients (scikit-optimize)?"
   ]
  },
  {
   "cell_type": "markdown",
   "id": "75c0f73e",
   "metadata": {},
   "source": [
    "Opcional : Feu la prova, i amb el model i el metode de crossvalidació escollit, configureu els diferents metodes de búsqueda per a que s'executin durant el mateix temps (i.e. depenent del problema, 0,5h-1 hora). Analitzeu quin ha arribat a una millor solució. (Ajuda: estimeu el temps que trigarà a fer 1 training el vostre model, i aixi trobeu el número de intents que podeu fer en cada cas.)"
   ]
  },
  {
   "cell_type": "markdown",
   "id": "f15099b7",
   "metadata": {},
   "source": [
    "## Analisi Final"
   ]
  },
  {
   "cell_type": "code",
   "execution_count": null,
   "id": "7e8294c3",
   "metadata": {},
   "outputs": [],
   "source": [
    "dftest = pd.read_csv('test.csv')"
   ]
  },
  {
   "cell_type": "markdown",
   "id": "526e5884",
   "metadata": {},
   "source": [
    "Mostreu les curves ROC/PR (la que hageu escollit en l'apartat 2) i interpreteu els resultats."
   ]
  },
  {
   "cell_type": "markdown",
   "id": "5357babd",
   "metadata": {},
   "source": [
    "Analitzeu en detall les diferents metriques que trobeu adients i comenteu per sobre com podrieu fer servir aquest model en un futur. Aixo es el que es coneix com un cas d'us."
   ]
  },
  {
   "cell_type": "markdown",
   "id": "bcc08eed",
   "metadata": {},
   "source": [
    "Com creieu que es podria millorar el vostre model?"
   ]
  },
  {
   "cell_type": "code",
   "execution_count": null,
   "id": "69a24b5d",
   "metadata": {},
   "outputs": [],
   "source": []
  }
 ],
 "metadata": {
  "kernelspec": {
   "display_name": "Python 3 (ipykernel)",
   "language": "python",
   "name": "python3"
  },
  "language_info": {
   "codemirror_mode": {
    "name": "ipython",
    "version": 3
   },
   "file_extension": ".py",
   "mimetype": "text/x-python",
   "name": "python",
   "nbconvert_exporter": "python",
   "pygments_lexer": "ipython3",
   "version": "3.9.13"
  }
 },
 "nbformat": 4,
 "nbformat_minor": 5
}
